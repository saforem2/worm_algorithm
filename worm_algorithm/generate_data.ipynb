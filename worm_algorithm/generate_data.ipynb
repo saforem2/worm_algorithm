{
 "cells": [
  {
   "cell_type": "markdown",
   "metadata": {},
   "source": [
    "# Generate Data"
   ]
  },
  {
   "cell_type": "markdown",
   "metadata": {},
   "source": [
    "## Imports"
   ]
  },
  {
   "cell_type": "code",
   "execution_count": 1,
   "metadata": {
    "ExecuteTime": {
     "end_time": "2018-04-28T09:22:17.545615Z",
     "start_time": "2018-04-28T09:22:14.756643Z"
    }
   },
   "outputs": [],
   "source": [
    "import numpy as np\n",
    "import pandas as pd\n",
    "import matplotlib.pyplot as plt\n",
    "import sys\n",
    "import os\n",
    "import time\n",
    "#from operator import xor\n",
    "#from blocks import Blocks\n",
    "from worm_simulation import WormSimulation\n",
    "from bonds import Bonds\n",
    "from specific_heat import SpecificHeat\n",
    "from pca import PrincipalComponent\n",
    "#from iterated_blocking import *\n",
    "#from count_bonds import *\n",
    "from specific_heat import SpecificHeat\n",
    "from count_bonds import *\n",
    "import matplotlib.image as mpimg\n",
    "from matplotlib.offsetbox import AnchoredText\n",
    "import matplotlib.offsetbox as offsetbox\n",
    "\n",
    "%autoreload 2\n",
    "%matplotlib notebook\n",
    "import matplotlib as mpl\n",
    "label_size = 14\n",
    "plt.rc('font', family='serif')\n",
    "plt.rc('text', usetex=True)\n",
    "mpl.rcParams['xtick.labelsize'] = label_size \n",
    "mpl.rcParams['ytick.labelsize'] = label_size \n",
    "\n",
    "Tc =  2./np.log(1+np.sqrt(2))    # critical temperature"
   ]
  },
  {
   "cell_type": "code",
   "execution_count": 2,
   "metadata": {
    "ExecuteTime": {
     "end_time": "2018-02-14T06:39:32.786530Z",
     "start_time": "2018-02-14T06:39:32.748814Z"
    }
   },
   "outputs": [],
   "source": [
    "bonds_temp_arr = np.arange(1., 3.5, 0.1)\n",
    "\n",
    "bonds_temp_arr_fine = np.arange(1.8, 2.8, 0.05)"
   ]
  },
  {
   "cell_type": "code",
   "execution_count": 4,
   "metadata": {
    "ExecuteTime": {
     "end_time": "2018-01-18T22:31:30.383377Z",
     "start_time": "2018-01-18T22:31:30.345588Z"
    }
   },
   "outputs": [],
   "source": [
    "bonds_temp_arr_ = []\n",
    "for i in bonds_temp_arr:\n",
    "    bonds_temp_arr_.append(i)\n",
    "for i in bonds_temp_arr_fine:\n",
    "    if i not in bonds_temp_arr_:\n",
    "        bonds_temp_arr_.append(i)"
   ]
  },
  {
   "cell_type": "code",
   "execution_count": 5,
   "metadata": {
    "ExecuteTime": {
     "end_time": "2018-01-18T22:31:30.914910Z",
     "start_time": "2018-01-18T22:31:30.880110Z"
    }
   },
   "outputs": [],
   "source": [
    "bonds_temp_arr_ = np.array(sorted(bonds_temp_arr_), dtype=np.float32)\n",
    "\n",
    "bonds_temp_arr_ = np.unique(bonds_temp_arr_)"
   ]
  },
  {
   "cell_type": "code",
   "execution_count": 11,
   "metadata": {
    "ExecuteTime": {
     "end_time": "2018-01-19T01:41:31.363515Z",
     "start_time": "2018-01-19T01:41:30.429168Z"
    },
    "collapsed": true
   },
   "outputs": [
    {
     "data": {
      "text/plain": [
       "array([ 1.        ,  1.10000002,  1.20000005,  1.29999995,  1.39999998,\n",
       "        1.5       ,  1.60000002,  1.70000005,  1.79999995,  1.85000002,\n",
       "        1.89999998,  1.95000005,  2.        ,  2.04999995,  2.0999999 ,\n",
       "        2.1500001 ,  2.20000005,  2.25      ,  2.29999995,  2.3499999 ,\n",
       "        2.4000001 ,  2.45000005,  2.5       ,  2.54999995,  2.5999999 ,\n",
       "        2.6500001 ,  2.70000005,  2.75      ,  2.79999995,  2.9000001 ,\n",
       "        3.        ,  3.0999999 ,  3.20000005,  3.29999995,  3.4000001 ,\n",
       "        3.5       ,  3.5999999 ], dtype=float32)"
      ]
     },
     "execution_count": 11,
     "metadata": {},
     "output_type": "execute_result"
    }
   ],
   "source": [
    "bonds_temp_arr_\n",
    "\n",
    "bonds8_temp_arr = np.arange(2.1, 2.6, 0.01)\n",
    "bonds4_temp_arr = np.arange(2.1, 2.8, 0.01)\n",
    "\n",
    "bonds32_temp_arr = np.arange(2.1,2.4, 0.01)\n",
    "bonds16_temp_arr = np.arange(2.1, 2.5, 0.01)"
   ]
  },
  {
   "cell_type": "code",
   "execution_count": 2,
   "metadata": {
    "ExecuteTime": {
     "end_time": "2018-04-28T09:22:20.739348Z",
     "start_time": "2018-04-28T09:22:20.678777Z"
    }
   },
   "outputs": [],
   "source": [
    "bonds_temp_arr0 = np.arange(1., 1.5, 0.1)\n",
    "bonds_temp_arr1 = np.arange(1.5, 2., 0.1)\n",
    "bonds_temp_arr2 = np.arange(2., 2.25, 0.05)\n",
    "bonds_temp_arr3 = np.arange(2.25, 2.5, 0.05)\n",
    "bonds_temp_arr4 = np.arange(2.5, 2.9, 0.1)\n",
    "bonds_temp_arr5 = np.arange(2.9, 3.2, 0.1)\n",
    "bonds_temp_arr6 = np.arange(3.2, 3.5, 0.1)"
   ]
  },
  {
   "cell_type": "code",
   "execution_count": 4,
   "metadata": {
    "ExecuteTime": {
     "end_time": "2018-04-28T09:14:26.022831Z",
     "start_time": "2018-04-28T09:14:25.954914Z"
    }
   },
   "outputs": [
    {
     "name": "stdout",
     "output_type": "stream",
     "text": [
      "[ 1.   1.1  1.2  1.3  1.4]\n",
      "[ 1.5  1.6  1.7  1.8  1.9]\n",
      "[ 2.    2.05  2.1   2.15  2.2 ]\n",
      "[ 2.25  2.3   2.35  2.4   2.45]\n",
      "[ 2.5  2.6  2.7  2.8]\n",
      "[ 2.9  3.   3.1  3.2]\n",
      "[ 3.2  3.3  3.4]\n"
     ]
    }
   ],
   "source": [
    "print(bonds_temp_arr0)\n",
    "print(bonds_temp_arr1)\n",
    "print(bonds_temp_arr2)\n",
    "print(bonds_temp_arr3)\n",
    "print(bonds_temp_arr4)\n",
    "print(bonds_temp_arr5)\n",
    "print(bonds_temp_arr6)"
   ]
  },
  {
   "cell_type": "code",
   "execution_count": 3,
   "metadata": {
    "ExecuteTime": {
     "end_time": "2018-04-28T09:22:56.583552Z",
     "start_time": "2018-04-28T09:22:26.252094Z"
    }
   },
   "outputs": [
    {
     "name": "stdout",
     "output_type": "stream",
     "text": [
      "compilation -- start\n",
      "\n",
      "compilation -- done\n",
      "\n",
      "runs -- start\n",
      "\n",
      "Running L = 64, T = 1.0, num_steps:10000000.0\n",
      "Running L = 64, T = 1.1, num_steps:10000000.0\n",
      "Saving configs to: ../data/configs/64_lattice/separated_data/64_config_1.0.txt\n",
      "Saving configs to: ../data/configs/64_lattice/separated_data/64_config_1.1.txt\n",
      "Saving blocked configs to: ../data/blocked_configs/64_lattice/double_bonds_0/64_config_1.0.txt\n",
      "Saving blocked configs to: ../data/blocked_configs/64_lattice/double_bonds_0/64_config_1.1.txt\n"
     ]
    }
   ],
   "source": [
    "sim64 = Bonds(64, run=True, num_steps=1E7, verbose=True, T_arr=bonds_temp_arr0[:2])"
   ]
  },
  {
   "cell_type": "code",
   "execution_count": 3,
   "metadata": {
    "ExecuteTime": {
     "end_time": "2018-02-11T05:25:54.441958Z",
     "start_time": "2018-02-11T03:36:01.442165Z"
    },
    "collapsed": true
   },
   "outputs": [
    {
     "name": "stdout",
     "output_type": "stream",
     "text": [
      "compilation -- start\n",
      "\n",
      "compilation -- done\n",
      "\n",
      "runs -- start\n",
      "\n",
      "Running L = 64, T = 1.0, num_steps:10000000.0\n",
      "Running L = 64, T = 1.1, num_steps:10000000.0\n",
      "Running L = 64, T = 1.2, num_steps:10000000.0\n",
      "Running L = 64, T = 1.3, num_steps:10000000.0\n",
      "Running L = 64, T = 1.4, num_steps:10000000.0\n",
      "Running L = 64, T = 1.5, num_steps:10000000.0\n",
      "Running L = 64, T = 1.6, num_steps:10000000.0\n",
      "Running L = 64, T = 1.7, num_steps:10000000.0\n",
      "Running L = 64, T = 1.8, num_steps:10000000.0\n",
      "Running L = 64, T = 1.9, num_steps:10000000.0\n",
      "Running L = 64, T = 2.0, num_steps:10000000.0\n",
      "Running L = 64, T = 2.1, num_steps:10000000.0\n",
      "Running L = 64, T = 2.2, num_steps:10000000.0\n",
      "Running L = 64, T = 2.3, num_steps:10000000.0\n",
      "Running L = 64, T = 2.4, num_steps:10000000.0\n",
      "Running L = 64, T = 2.5, num_steps:10000000.0\n",
      "Running L = 64, T = 2.6, num_steps:10000000.0\n",
      "Running L = 64, T = 2.7, num_steps:10000000.0\n",
      "Running L = 64, T = 2.8, num_steps:10000000.0\n",
      "Running L = 64, T = 2.9, num_steps:10000000.0\n",
      "Running L = 64, T = 3.0, num_steps:10000000.0\n",
      "Running L = 64, T = 3.1, num_steps:10000000.0\n",
      "Running L = 64, T = 3.2, num_steps:10000000.0\n",
      "Running L = 64, T = 3.3, num_steps:10000000.0\n",
      "Running L = 64, T = 3.4, num_steps:10000000.0\n"
     ]
    },
    {
     "ename": "NameError",
     "evalue": "name 'start_site' is not defined",
     "output_type": "error",
     "traceback": [
      "\u001b[0;31m---------------------------------------------------------------------------\u001b[0m",
      "\u001b[0;31mKeyError\u001b[0m                                  Traceback (most recent call last)",
      "\u001b[0;32m~/worm_algorithm/worm_algorithm/bonds.py\u001b[0m in \u001b[0;36m_get_map\u001b[0;34m(self)\u001b[0m\n\u001b[1;32m    104\u001b[0m             \u001b[0;32mtry\u001b[0m\u001b[0;34m:\u001b[0m\u001b[0;34m\u001b[0m\u001b[0m\n\u001b[0;32m--> 105\u001b[0;31m                 _map[key].append([tuple(start_site[idx]),\n\u001b[0m\u001b[1;32m    106\u001b[0m                                   tuple(start_site[idx])])\n",
      "\u001b[0;31mKeyError\u001b[0m: 0",
      "\nDuring handling of the above exception, another exception occurred:\n",
      "\u001b[0;31mNameError\u001b[0m                                 Traceback (most recent call last)",
      "\u001b[0;32m<ipython-input-3-c31ceb3063cf>\u001b[0m in \u001b[0;36m<module>\u001b[0;34m()\u001b[0m\n\u001b[0;32m----> 1\u001b[0;31m \u001b[0msim64\u001b[0m \u001b[0;34m=\u001b[0m \u001b[0mBonds\u001b[0m\u001b[0;34m(\u001b[0m\u001b[0;36m64\u001b[0m\u001b[0;34m,\u001b[0m \u001b[0mrun\u001b[0m\u001b[0;34m=\u001b[0m\u001b[0;32mTrue\u001b[0m\u001b[0;34m,\u001b[0m \u001b[0mnum_steps\u001b[0m\u001b[0;34m=\u001b[0m\u001b[0;36m1E7\u001b[0m\u001b[0;34m,\u001b[0m \u001b[0mverbose\u001b[0m\u001b[0;34m=\u001b[0m\u001b[0;32mTrue\u001b[0m\u001b[0;34m,\u001b[0m \u001b[0mT_arr\u001b[0m\u001b[0;34m=\u001b[0m\u001b[0mbonds_temp_arr\u001b[0m\u001b[0;34m)\u001b[0m\u001b[0;34m\u001b[0m\u001b[0m\n\u001b[0m",
      "\u001b[0;32m~/worm_algorithm/worm_algorithm/bonds.py\u001b[0m in \u001b[0;36m__init__\u001b[0;34m(self, L, run, num_steps, decay_steps, verbose, T_start, T_end, T_step, T_arr, block_val, write, write_blocked)\u001b[0m\n\u001b[1;32m     50\u001b[0m         \u001b[0mself\u001b[0m\u001b[0;34m.\u001b[0m\u001b[0m_bond_map_dir\u001b[0m \u001b[0;34m=\u001b[0m \u001b[0;34m'../data/bond_map/lattice_{}/'\u001b[0m\u001b[0;34m.\u001b[0m\u001b[0mformat\u001b[0m\u001b[0;34m(\u001b[0m\u001b[0mself\u001b[0m\u001b[0;34m.\u001b[0m\u001b[0m_L\u001b[0m\u001b[0;34m)\u001b[0m\u001b[0;34m\u001b[0m\u001b[0m\n\u001b[1;32m     51\u001b[0m         \u001b[0mself\u001b[0m\u001b[0;34m.\u001b[0m\u001b[0m__map_file\u001b[0m \u001b[0;34m=\u001b[0m \u001b[0mself\u001b[0m\u001b[0;34m.\u001b[0m\u001b[0m_bond_map_dir\u001b[0m \u001b[0;34m+\u001b[0m \u001b[0;34m'bond_map_{}.txt'\u001b[0m\u001b[0;34m.\u001b[0m\u001b[0mformat\u001b[0m\u001b[0;34m(\u001b[0m\u001b[0mL\u001b[0m\u001b[0;34m)\u001b[0m\u001b[0;34m\u001b[0m\u001b[0m\n\u001b[0;32m---> 52\u001b[0;31m         \u001b[0mself\u001b[0m\u001b[0;34m.\u001b[0m\u001b[0m_map\u001b[0m \u001b[0;34m=\u001b[0m \u001b[0mself\u001b[0m\u001b[0;34m.\u001b[0m\u001b[0m_get_map\u001b[0m\u001b[0;34m(\u001b[0m\u001b[0;34m)\u001b[0m\u001b[0;34m\u001b[0m\u001b[0m\n\u001b[0m\u001b[1;32m     53\u001b[0m         \u001b[0mself\u001b[0m\u001b[0;34m.\u001b[0m\u001b[0m_dict\u001b[0m \u001b[0;34m=\u001b[0m \u001b[0mself\u001b[0m\u001b[0;34m.\u001b[0m\u001b[0m_get_bonds\u001b[0m\u001b[0;34m(\u001b[0m\u001b[0;34m)\u001b[0m\u001b[0;34m\u001b[0m\u001b[0m\n\u001b[1;32m     54\u001b[0m         \u001b[0mself\u001b[0m\u001b[0;34m.\u001b[0m\u001b[0m_mapped_bonds\u001b[0m \u001b[0;34m=\u001b[0m \u001b[0mself\u001b[0m\u001b[0;34m.\u001b[0m\u001b[0m_map_bonds\u001b[0m\u001b[0;34m(\u001b[0m\u001b[0;34m)\u001b[0m\u001b[0;34m\u001b[0m\u001b[0m\n",
      "\u001b[0;32m~/worm_algorithm/worm_algorithm/bonds.py\u001b[0m in \u001b[0;36m_get_map\u001b[0;34m(self)\u001b[0m\n\u001b[1;32m    106\u001b[0m                                   tuple(start_site[idx])])\n\u001b[1;32m    107\u001b[0m             \u001b[0;32mexcept\u001b[0m \u001b[0mKeyError\u001b[0m\u001b[0;34m:\u001b[0m\u001b[0;34m\u001b[0m\u001b[0m\n\u001b[0;32m--> 108\u001b[0;31m                 \u001b[0m_map\u001b[0m\u001b[0;34m[\u001b[0m\u001b[0mkey\u001b[0m\u001b[0;34m]\u001b[0m \u001b[0;34m=\u001b[0m \u001b[0;34m[\u001b[0m\u001b[0mtuple\u001b[0m\u001b[0;34m(\u001b[0m\u001b[0mstart_site\u001b[0m\u001b[0;34m[\u001b[0m\u001b[0midx\u001b[0m\u001b[0;34m]\u001b[0m\u001b[0;34m)\u001b[0m\u001b[0;34m,\u001b[0m \u001b[0mtuple\u001b[0m\u001b[0;34m(\u001b[0m\u001b[0mstart_site\u001b[0m\u001b[0;34m[\u001b[0m\u001b[0midx\u001b[0m\u001b[0;34m]\u001b[0m\u001b[0;34m)\u001b[0m\u001b[0;34m]\u001b[0m\u001b[0;34m\u001b[0m\u001b[0m\n\u001b[0m\u001b[1;32m    109\u001b[0m         \u001b[0;31m#  for i in range(len(self._raw_bonds)):\u001b[0m\u001b[0;34m\u001b[0m\u001b[0;34m\u001b[0m\u001b[0m\n\u001b[1;32m    110\u001b[0m         \u001b[0;31m#      key = self._raw_bonds[i, 0]\u001b[0m\u001b[0;34m\u001b[0m\u001b[0;34m\u001b[0m\u001b[0m\n",
      "\u001b[0;31mNameError\u001b[0m: name 'start_site' is not defined"
     ]
    }
   ],
   "source": [
    "sim64 = Bonds(64, run=True, num_steps=1E7, verbose=True, T_arr=bonds_temp_arr)"
   ]
  },
  {
   "cell_type": "code",
   "execution_count": 19,
   "metadata": {
    "ExecuteTime": {
     "end_time": "2018-01-25T14:33:04.109153Z",
     "start_time": "2018-01-25T14:32:17.819731Z"
    },
    "scrolled": true
   },
   "outputs": [
    {
     "name": "stdout",
     "output_type": "stream",
     "text": [
      "\n",
      "********************************************************************************\n",
      "\n",
      "Run #: 0\n",
      "\n",
      "********************************************************************************\n",
      "\n",
      "compilation -- start\n",
      "\n",
      "compilation -- done\n",
      "\n",
      "runs -- start\n",
      "\n",
      "Running L = 4, T = 2.1, num_steps:100000.0\n",
      "Running L = 4, T = 2.11, num_steps:100000.0\n",
      "Running L = 4, T = 2.12, num_steps:100000.0\n",
      "Running L = 4, T = 2.13, num_steps:100000.0\n",
      "Running L = 4, T = 2.14, num_steps:100000.0\n",
      "Running L = 4, T = 2.15, num_steps:100000.0\n",
      "Running L = 4, T = 2.16, num_steps:100000.0\n",
      "Running L = 4, T = 2.17, num_steps:100000.0\n",
      "Running L = 4, T = 2.18, num_steps:100000.0\n",
      "Running L = 4, T = 2.19, num_steps:100000.0\n",
      "Running L = 4, T = 2.2, num_steps:100000.0\n",
      "Running L = 4, T = 2.21, num_steps:100000.0\n",
      "Running L = 4, T = 2.22, num_steps:100000.0\n",
      "Running L = 4, T = 2.23, num_steps:100000.0\n",
      "Running L = 4, T = 2.24, num_steps:100000.0\n",
      "Running L = 4, T = 2.25, num_steps:100000.0\n",
      "Running L = 4, T = 2.26, num_steps:100000.0\n",
      "Running L = 4, T = 2.27, num_steps:100000.0\n",
      "Running L = 4, T = 2.28, num_steps:100000.0\n",
      "Running L = 4, T = 2.29, num_steps:100000.0\n",
      "Running L = 4, T = 2.3, num_steps:100000.0\n",
      "Running L = 4, T = 2.31, num_steps:100000.0\n",
      "Running L = 4, T = 2.32, num_steps:100000.0\n",
      "Running L = 4, T = 2.33, num_steps:100000.0\n",
      "Running L = 4, T = 2.34, num_steps:100000.0\n",
      "Running L = 4, T = 2.35, num_steps:100000.0\n",
      "Running L = 4, T = 2.36, num_steps:100000.0\n",
      "Running L = 4, T = 2.37, num_steps:100000.0\n",
      "Running L = 4, T = 2.38, num_steps:100000.0\n",
      "Running L = 4, T = 2.39, num_steps:100000.0\n",
      "Running L = 4, T = 2.4, num_steps:100000.0\n",
      "Running L = 4, T = 2.41, num_steps:100000.0\n",
      "Running L = 4, T = 2.42, num_steps:100000.0\n",
      "Running L = 4, T = 2.43, num_steps:100000.0\n",
      "Running L = 4, T = 2.44, num_steps:100000.0\n",
      "Running L = 4, T = 2.45, num_steps:100000.0\n",
      "Running L = 4, T = 2.46, num_steps:100000.0\n",
      "Running L = 4, T = 2.47, num_steps:100000.0\n",
      "Running L = 4, T = 2.48, num_steps:100000.0\n",
      "Running L = 4, T = 2.49, num_steps:100000.0\n",
      "Running L = 4, T = 2.5, num_steps:100000.0\n",
      "Running L = 4, T = 2.51, num_steps:100000.0\n",
      "Running L = 4, T = 2.52, num_steps:100000.0\n",
      "Running L = 4, T = 2.53, num_steps:100000.0\n",
      "Running L = 4, T = 2.54, num_steps:100000.0\n",
      "Running L = 4, T = 2.55, num_steps:100000.0\n",
      "Running L = 4, T = 2.56, num_steps:100000.0\n",
      "Running L = 4, T = 2.57, num_steps:100000.0\n",
      "Running L = 4, T = 2.58, num_steps:100000.0\n",
      "Running L = 4, T = 2.59, num_steps:100000.0\n",
      "Running L = 4, T = 2.6, num_steps:100000.0\n",
      "Running L = 4, T = 2.61, num_steps:100000.0\n",
      "Running L = 4, T = 2.62, num_steps:100000.0\n",
      "Running L = 4, T = 2.63, num_steps:100000.0\n",
      "Running L = 4, T = 2.64, num_steps:100000.0\n",
      "Running L = 4, T = 2.65, num_steps:100000.0\n",
      "Running L = 4, T = 2.66, num_steps:100000.0\n",
      "Running L = 4, T = 2.67, num_steps:100000.0\n",
      "Running L = 4, T = 2.68, num_steps:100000.0\n",
      "Running L = 4, T = 2.69, num_steps:100000.0\n",
      "Running L = 4, T = 2.7, num_steps:100000.0\n",
      "Running L = 4, T = 2.71, num_steps:100000.0\n",
      "Running L = 4, T = 2.72, num_steps:100000.0\n",
      "Running L = 4, T = 2.73, num_steps:100000.0\n",
      "Running L = 4, T = 2.74, num_steps:100000.0\n",
      "Running L = 4, T = 2.75, num_steps:100000.0\n",
      "Running L = 4, T = 2.76, num_steps:100000.0\n",
      "Running L = 4, T = 2.77, num_steps:100000.0\n",
      "Running L = 4, T = 2.78, num_steps:100000.0\n",
      "Running L = 4, T = 2.79, num_steps:100000.0\n",
      "Time for L = 4: 3.3545522689819336\n",
      "compilation -- start\n",
      "\n",
      "compilation -- done\n",
      "\n",
      "runs -- start\n",
      "\n",
      "Running L = 8, T = 2.1, num_steps:10000000.0\n",
      "Running L = 8, T = 2.11, num_steps:10000000.0\n",
      "Running L = 8, T = 2.12, num_steps:10000000.0\n",
      "Running L = 8, T = 2.13, num_steps:10000000.0\n",
      "Running L = 8, T = 2.14, num_steps:10000000.0\n",
      "Running L = 8, T = 2.15, num_steps:10000000.0\n",
      "Running L = 8, T = 2.16, num_steps:10000000.0\n",
      "Running L = 8, T = 2.17, num_steps:10000000.0\n",
      "Running L = 8, T = 2.18, num_steps:10000000.0\n",
      "Running L = 8, T = 2.19, num_steps:10000000.0\n",
      "Running L = 8, T = 2.2, num_steps:10000000.0\n",
      "Running L = 8, T = 2.21, num_steps:10000000.0\n",
      "Running L = 8, T = 2.22, num_steps:10000000.0\n",
      "Running L = 8, T = 2.23, num_steps:10000000.0\n",
      "Running L = 8, T = 2.24, num_steps:10000000.0\n",
      "Running L = 8, T = 2.25, num_steps:10000000.0\n",
      "Running L = 8, T = 2.26, num_steps:10000000.0\n",
      "Running L = 8, T = 2.27, num_steps:10000000.0\n",
      "Running L = 8, T = 2.28, num_steps:10000000.0\n",
      "Running L = 8, T = 2.29, num_steps:10000000.0\n",
      "Running L = 8, T = 2.3, num_steps:10000000.0\n",
      "Running L = 8, T = 2.31, num_steps:10000000.0\n",
      "Running L = 8, T = 2.32, num_steps:10000000.0\n",
      "Running L = 8, T = 2.33, num_steps:10000000.0\n",
      "Running L = 8, T = 2.34, num_steps:10000000.0\n",
      "Running L = 8, T = 2.35, num_steps:10000000.0\n",
      "Running L = 8, T = 2.36, num_steps:10000000.0\n",
      "Running L = 8, T = 2.37, num_steps:10000000.0\n",
      "Running L = 8, T = 2.38, num_steps:10000000.0\n",
      "Running L = 8, T = 2.39, num_steps:10000000.0\n",
      "Running L = 8, T = 2.4, num_steps:10000000.0\n",
      "Running L = 8, T = 2.41, num_steps:10000000.0\n",
      "Running L = 8, T = 2.42, num_steps:10000000.0\n",
      "Running L = 8, T = 2.43, num_steps:10000000.0\n",
      "Running L = 8, T = 2.44, num_steps:10000000.0\n",
      "Running L = 8, T = 2.45, num_steps:10000000.0\n",
      "Running L = 8, T = 2.46, num_steps:10000000.0\n",
      "Running L = 8, T = 2.47, num_steps:10000000.0\n",
      "Running L = 8, T = 2.48, num_steps:10000000.0\n",
      "Running L = 8, T = 2.49, num_steps:10000000.0\n",
      "Running L = 8, T = 2.5, num_steps:10000000.0\n",
      "Running L = 8, T = 2.51, num_steps:10000000.0\n",
      "Running L = 8, T = 2.52, num_steps:10000000.0\n",
      "Running L = 8, T = 2.53, num_steps:10000000.0\n",
      "Running L = 8, T = 2.54, num_steps:10000000.0\n",
      "Running L = 8, T = 2.55, num_steps:10000000.0\n",
      "Running L = 8, T = 2.56, num_steps:10000000.0\n",
      "Running L = 8, T = 2.57, num_steps:10000000.0\n",
      "Running L = 8, T = 2.58, num_steps:10000000.0\n",
      "Running L = 8, T = 2.59, num_steps:10000000.0\n",
      "Time for L = 8: 42.80891799926758\n",
      "Time for 1 run: 46.163784980773926\n",
      "Time to complete: 46.164713859558105\n"
     ]
    }
   ],
   "source": [
    "t00 = time.time()\n",
    "for i in range(1):\n",
    "    t0 = time.time()\n",
    "    print(\"\\n\" + 80*\"*\" + \"\\n\")\n",
    "    print(\"Run #: {0}\".format(i))\n",
    "    print(\"\\n\" + 80*\"*\" + \"\\n\")\n",
    "    #bonds64 = Bonds(64, run=True, num_steps=1E7, T_arr=bonds_temp_arr_)\n",
    "    #bonds4 = Bonds(4, run=True, num_steps=1E7, T_arr=bonds4_temp_arr)\n",
    "    #bonds8 = Bonds(8, run=True, num_steps=1E7, T_arr=bonds8_temp_arr)\n",
    "    sim4 = WormSimulation(4, run=True, num_steps=1E5, T_arr=bonds4_temp_arr, \n",
    "                          bond_flag=0)\n",
    "    t1 = time.time()\n",
    "    print(\"Time for L = 4: {}\".format(t1 - t0))\n",
    "    sim8 = WormSimulation(8, run=True, num_steps=1E7, T_arr=bonds8_temp_arr, \n",
    "                          bond_flag=0)\n",
    "    t2 = time.time()\n",
    "    print(\"Time for L = 8: {}\".format(t2 - t1))\n",
    "    #sim16 = WormSimulation(16, run=True, num_steps=1E7, T_arr=bonds16_temp_arr,\n",
    "    #                       bond_flag=0)\n",
    "    #t3 = time.time()\n",
    "    #print(\"Time for L = 16: {}\".format(t3 - t2))\n",
    "    #sim32 = WormSimulation(32, run=True, num_steps=1E7, T_arr=bonds32_temp_arr,\n",
    "    #                       bond_flag=0)\n",
    "    #t4 = time.time()\n",
    "    #print(\"Time for L = 32: {}\".format(t4 - t3))\n",
    "    #bonds16 = Bonds(16, run=True, num_steps=1E7, T_arr=bonds_temp_arr_)\n",
    "    #                bond_stats=False)\n",
    "    #bonds32 = Bonds(32, run=True, num_steps=1E7, T_arr=bonds_temp_arr_,\n",
    "    #                bond_stats=False)\n",
    "    print(\"Time for 1 run: {}\".format(time.time() - t0))\n",
    "print(\"Time to complete: {}\".format(time.time() - t00))\n",
    "#~1448s / run\n",
    "# 13989.77 to complete, generated 113.2-107.1MB for L = 32 observables\n",
    "# Time for L = 4: 106.37809s\n",
    "# Time for L = 4: 7.267660s\n",
    "# Time for L = 32: 31.6713s"
   ]
  },
  {
   "cell_type": "code",
   "execution_count": 20,
   "metadata": {
    "ExecuteTime": {
     "end_time": "2018-01-16T00:34:40.230694Z",
     "start_time": "2018-01-16T00:32:04.118800Z"
    }
   },
   "outputs": [
    {
     "name": "stdout",
     "output_type": "stream",
     "text": [
      "compilation -- start\n",
      "\n",
      "compilation -- done\n",
      "\n",
      "runs -- start\n",
      "\n",
      "Running T = 1.0, num_steps: 10000000.0\n",
      "Running T = 1.1, num_steps: 10000000.0\n",
      "Running T = 1.2, num_steps: 10000000.0\n",
      "Running T = 1.3, num_steps: 10000000.0\n",
      "Running T = 1.4, num_steps: 10000000.0\n",
      "Running T = 1.5, num_steps: 10000000.0\n",
      "Running T = 1.6, num_steps: 10000000.0\n",
      "Running T = 1.7, num_steps: 10000000.0\n",
      "Running T = 1.8, num_steps: 10000000.0\n",
      "Running T = 1.8, num_steps: 10000000.0\n",
      "Running T = 1.85, num_steps: 10000000.0\n",
      "Running T = 1.9, num_steps: 10000000.0\n",
      "Running T = 1.9, num_steps: 10000000.0\n",
      "Running T = 1.95, num_steps: 10000000.0\n",
      "Running T = 2.0, num_steps: 10000000.0\n",
      "Running T = 2.0, num_steps: 10000000.0\n",
      "Running T = 2.05, num_steps: 10000000.0\n",
      "Running T = 2.1, num_steps: 10000000.0\n",
      "Running T = 2.1, num_steps: 10000000.0\n",
      "Running T = 2.15, num_steps: 10000000.0\n",
      "Running T = 2.2, num_steps: 10000000.0\n",
      "Running T = 2.2, num_steps: 10000000.0\n",
      "Running T = 2.25, num_steps: 10000000.0\n",
      "Running T = 2.3, num_steps: 10000000.0\n",
      "Running T = 2.3, num_steps: 10000000.0\n",
      "Running T = 2.35, num_steps: 10000000.0\n",
      "Running T = 2.4, num_steps: 10000000.0\n",
      "Running T = 2.4, num_steps: 10000000.0\n",
      "Running T = 2.45, num_steps: 10000000.0\n",
      "Running T = 2.5, num_steps: 10000000.0\n",
      "Running T = 2.5, num_steps: 10000000.0\n",
      "Running T = 2.55, num_steps: 10000000.0\n",
      "Running T = 2.6, num_steps: 10000000.0\n",
      "Running T = 2.6, num_steps: 10000000.0\n",
      "Running T = 2.65, num_steps: 10000000.0\n",
      "Running T = 2.7, num_steps: 10000000.0\n",
      "Running T = 2.7, num_steps: 10000000.0\n",
      "Running T = 2.75, num_steps: 10000000.0\n",
      "Running T = 2.8, num_steps: 10000000.0\n",
      "Running T = 2.8, num_steps: 10000000.0\n",
      "Running T = 2.85, num_steps: 10000000.0\n",
      "Running T = 2.9, num_steps: 10000000.0\n",
      "Running T = 2.9, num_steps: 10000000.0\n",
      "Running T = 2.95, num_steps: 10000000.0\n",
      "Running T = 3.0, num_steps: 10000000.0\n",
      "Running T = 3.1, num_steps: 10000000.0\n",
      "Running T = 3.2, num_steps: 10000000.0\n",
      "Running T = 3.3, num_steps: 10000000.0\n",
      "Running T = 3.4, num_steps: 10000000.0\n",
      "Running T = 3.5, num_steps: 10000000.0\n",
      "Running T = 3.6, num_steps: 10000000.0\n",
      "Running T = 3.7, num_steps: 10000000.0\n",
      "Running T = 3.8, num_steps: 10000000.0\n",
      "Running T = 3.9, num_steps: 10000000.0\n",
      "Saving configs to: ../data/configs/4_lattice/separated_data/4_config_1.0.txt\n",
      "Saving configs to: ../data/configs/4_lattice/separated_data/4_config_1.1.txt\n",
      "Saving configs to: ../data/configs/4_lattice/separated_data/4_config_1.2.txt\n",
      "Saving configs to: ../data/configs/4_lattice/separated_data/4_config_1.3.txt\n",
      "Saving configs to: ../data/configs/4_lattice/separated_data/4_config_1.4.txt\n",
      "Saving configs to: ../data/configs/4_lattice/separated_data/4_config_1.5.txt\n",
      "Saving configs to: ../data/configs/4_lattice/separated_data/4_config_1.6.txt\n",
      "Saving configs to: ../data/configs/4_lattice/separated_data/4_config_1.7.txt\n",
      "Saving configs to: ../data/configs/4_lattice/separated_data/4_config_1.8.txt\n",
      "Saving configs to: ../data/configs/4_lattice/separated_data/4_config_1.85.txt\n",
      "Saving configs to: ../data/configs/4_lattice/separated_data/4_config_1.9.txt\n",
      "Saving configs to: ../data/configs/4_lattice/separated_data/4_config_1.95.txt\n",
      "Saving configs to: ../data/configs/4_lattice/separated_data/4_config_2.0.txt\n",
      "Saving configs to: ../data/configs/4_lattice/separated_data/4_config_2.05.txt\n",
      "Saving configs to: ../data/configs/4_lattice/separated_data/4_config_2.1.txt\n",
      "Saving configs to: ../data/configs/4_lattice/separated_data/4_config_2.15.txt\n",
      "Saving configs to: ../data/configs/4_lattice/separated_data/4_config_2.2.txt\n",
      "Saving configs to: ../data/configs/4_lattice/separated_data/4_config_2.25.txt\n",
      "Saving configs to: ../data/configs/4_lattice/separated_data/4_config_2.3.txt\n",
      "Saving configs to: ../data/configs/4_lattice/separated_data/4_config_2.35.txt\n",
      "Saving configs to: ../data/configs/4_lattice/separated_data/4_config_2.4.txt\n",
      "Saving configs to: ../data/configs/4_lattice/separated_data/4_config_2.45.txt\n",
      "Saving configs to: ../data/configs/4_lattice/separated_data/4_config_2.5.txt\n",
      "Saving configs to: ../data/configs/4_lattice/separated_data/4_config_2.55.txt\n",
      "Saving configs to: ../data/configs/4_lattice/separated_data/4_config_2.6.txt\n",
      "Saving configs to: ../data/configs/4_lattice/separated_data/4_config_2.65.txt\n",
      "Saving configs to: ../data/configs/4_lattice/separated_data/4_config_2.7.txt\n",
      "Saving configs to: ../data/configs/4_lattice/separated_data/4_config_2.75.txt\n",
      "Saving configs to: ../data/configs/4_lattice/separated_data/4_config_2.8.txt\n",
      "Saving configs to: ../data/configs/4_lattice/separated_data/4_config_2.85.txt\n",
      "Saving configs to: ../data/configs/4_lattice/separated_data/4_config_2.9.txt\n",
      "Saving configs to: ../data/configs/4_lattice/separated_data/4_config_2.95.txt\n",
      "Saving configs to: ../data/configs/4_lattice/separated_data/4_config_3.0.txt\n",
      "Saving configs to: ../data/configs/4_lattice/separated_data/4_config_3.1.txt\n",
      "Saving configs to: ../data/configs/4_lattice/separated_data/4_config_3.2.txt\n",
      "Saving configs to: ../data/configs/4_lattice/separated_data/4_config_3.3.txt\n",
      "Saving configs to: ../data/configs/4_lattice/separated_data/4_config_3.4.txt\n",
      "Saving configs to: ../data/configs/4_lattice/separated_data/4_config_3.5.txt\n",
      "Saving configs to: ../data/configs/4_lattice/separated_data/4_config_3.6.txt\n",
      "Saving configs to: ../data/configs/4_lattice/separated_data/4_config_3.7.txt\n",
      "Saving configs to: ../data/configs/4_lattice/separated_data/4_config_3.8.txt\n",
      "Saving configs to: ../data/configs/4_lattice/separated_data/4_config_3.9.txt\n",
      "Saving blocked configs to: ../data/blocked_configs/4_lattice/double_bonds_0/4_config_1.0.txt\n",
      "Saving blocked configs to: ../data/blocked_configs/4_lattice/double_bonds_0/4_config_1.1.txt\n",
      "Saving blocked configs to: ../data/blocked_configs/4_lattice/double_bonds_0/4_config_1.2.txt\n",
      "Saving blocked configs to: ../data/blocked_configs/4_lattice/double_bonds_0/4_config_1.3.txt\n",
      "Saving blocked configs to: ../data/blocked_configs/4_lattice/double_bonds_0/4_config_1.4.txt\n",
      "Saving blocked configs to: ../data/blocked_configs/4_lattice/double_bonds_0/4_config_1.5.txt\n",
      "Saving blocked configs to: ../data/blocked_configs/4_lattice/double_bonds_0/4_config_1.6.txt\n",
      "Saving blocked configs to: ../data/blocked_configs/4_lattice/double_bonds_0/4_config_1.7.txt\n",
      "Saving blocked configs to: ../data/blocked_configs/4_lattice/double_bonds_0/4_config_1.8.txt\n",
      "Saving blocked configs to: ../data/blocked_configs/4_lattice/double_bonds_0/4_config_1.85.txt\n",
      "Saving blocked configs to: ../data/blocked_configs/4_lattice/double_bonds_0/4_config_1.9.txt\n",
      "Saving blocked configs to: ../data/blocked_configs/4_lattice/double_bonds_0/4_config_1.95.txt\n",
      "Saving blocked configs to: ../data/blocked_configs/4_lattice/double_bonds_0/4_config_2.0.txt\n",
      "Saving blocked configs to: ../data/blocked_configs/4_lattice/double_bonds_0/4_config_2.05.txt\n",
      "Saving blocked configs to: ../data/blocked_configs/4_lattice/double_bonds_0/4_config_2.1.txt\n",
      "Saving blocked configs to: ../data/blocked_configs/4_lattice/double_bonds_0/4_config_2.15.txt\n",
      "Saving blocked configs to: ../data/blocked_configs/4_lattice/double_bonds_0/4_config_2.2.txt\n",
      "Saving blocked configs to: ../data/blocked_configs/4_lattice/double_bonds_0/4_config_2.25.txt\n",
      "Saving blocked configs to: ../data/blocked_configs/4_lattice/double_bonds_0/4_config_2.3.txt\n",
      "Saving blocked configs to: ../data/blocked_configs/4_lattice/double_bonds_0/4_config_2.35.txt\n",
      "Saving blocked configs to: ../data/blocked_configs/4_lattice/double_bonds_0/4_config_2.4.txt\n",
      "Saving blocked configs to: ../data/blocked_configs/4_lattice/double_bonds_0/4_config_2.45.txt\n",
      "Saving blocked configs to: ../data/blocked_configs/4_lattice/double_bonds_0/4_config_2.5.txt\n",
      "Saving blocked configs to: ../data/blocked_configs/4_lattice/double_bonds_0/4_config_2.55.txt\n",
      "Saving blocked configs to: ../data/blocked_configs/4_lattice/double_bonds_0/4_config_2.6.txt\n",
      "Saving blocked configs to: ../data/blocked_configs/4_lattice/double_bonds_0/4_config_2.65.txt\n",
      "Saving blocked configs to: ../data/blocked_configs/4_lattice/double_bonds_0/4_config_2.7.txt\n",
      "Saving blocked configs to: ../data/blocked_configs/4_lattice/double_bonds_0/4_config_2.75.txt\n",
      "Saving blocked configs to: ../data/blocked_configs/4_lattice/double_bonds_0/4_config_2.8.txt\n",
      "Saving blocked configs to: ../data/blocked_configs/4_lattice/double_bonds_0/4_config_2.85.txt\n"
     ]
    },
    {
     "name": "stdout",
     "output_type": "stream",
     "text": [
      "Saving blocked configs to: ../data/blocked_configs/4_lattice/double_bonds_0/4_config_2.9.txt\n",
      "Saving blocked configs to: ../data/blocked_configs/4_lattice/double_bonds_0/4_config_2.95.txt\n",
      "Saving blocked configs to: ../data/blocked_configs/4_lattice/double_bonds_0/4_config_3.0.txt\n",
      "Saving blocked configs to: ../data/blocked_configs/4_lattice/double_bonds_0/4_config_3.1.txt\n",
      "Saving blocked configs to: ../data/blocked_configs/4_lattice/double_bonds_0/4_config_3.2.txt\n",
      "Saving blocked configs to: ../data/blocked_configs/4_lattice/double_bonds_0/4_config_3.3.txt\n",
      "Saving blocked configs to: ../data/blocked_configs/4_lattice/double_bonds_0/4_config_3.4.txt\n",
      "Saving blocked configs to: ../data/blocked_configs/4_lattice/double_bonds_0/4_config_3.5.txt\n",
      "Saving blocked configs to: ../data/blocked_configs/4_lattice/double_bonds_0/4_config_3.6.txt\n",
      "Saving blocked configs to: ../data/blocked_configs/4_lattice/double_bonds_0/4_config_3.7.txt\n",
      "Saving blocked configs to: ../data/blocked_configs/4_lattice/double_bonds_0/4_config_3.8.txt\n",
      "Saving blocked configs to: ../data/blocked_configs/4_lattice/double_bonds_0/4_config_3.9.txt\n"
     ]
    }
   ],
   "source": [
    "bonds4 = Bonds(4, run=True, num_steps=1E7, T_arr=bonds4_temps)"
   ]
  },
  {
   "cell_type": "code",
   "execution_count": 7,
   "metadata": {
    "ExecuteTime": {
     "end_time": "2018-01-25T12:29:07.091048Z",
     "start_time": "2018-01-25T12:29:07.032380Z"
    }
   },
   "outputs": [
    {
     "data": {
      "text/plain": [
       "0"
      ]
     },
     "execution_count": 7,
     "metadata": {},
     "output_type": "execute_result"
    }
   ],
   "source": [
    "3 % 1"
   ]
  },
  {
   "cell_type": "code",
   "execution_count": null,
   "metadata": {},
   "outputs": [],
   "source": [
    "##########################################################\n",
    "#        Feel free to change parameters as needed        #\n",
    "##########################################################\n",
    "for i in range(10):\n",
    "    print(\"\\n\" + 80*\"*\" + \"\\n\")\n",
    "    print(\"Run #: {}\".format(i))\n",
    "    print(\"\\n\" + 80*\"*\" + \"\\n\")\n",
    "    # run from 1.0 to 3.5 in steps of 0.1\n",
    "    bonds4 = Bonds(4, run=True, num_steps=1E8)\n",
    "    bonds8 = Bonds(8, run=True, num_steps=1E8)\n",
    "    bonds16 = Bonds(16, run=True, num_steps=1E8)\n",
    "    bonds32 = Bonds(32, run=True, num_steps=1E7)\n",
    "    # run from 1.8 to 2.8 in steps of 0.05\n",
    "    bonds32 = Bonds(32, run=True, num_steps=1E8, \n",
    "                    T_start=1.8, T_end=2.8, T_step=0.05)\n",
    "    bonds16 = Bonds(16, run=True, num_steps=1E8, \n",
    "                    T_start=1.8, T_end=2.8, T_step=0.05)\n",
    "    bonds8 = Bonds(8, run=True, num_steps=1E8, \n",
    "                   T_start=1.8, T_end=2.8, T_step=0.05)\n",
    "    bonds4 = Bonds(4, run=True, num_steps=1E8, \n",
    "                   T_start=1.8, T_end=2.8, T_step=0.05)"
   ]
  }
 ],
 "metadata": {
  "hide_input": false,
  "kernelspec": {
   "display_name": "Python 3",
   "language": "python",
   "name": "python3"
  },
  "language_info": {
   "codemirror_mode": {
    "name": "ipython",
    "version": 3
   },
   "file_extension": ".py",
   "mimetype": "text/x-python",
   "name": "python",
   "nbconvert_exporter": "python",
   "pygments_lexer": "ipython3",
   "version": "3.6.5"
  },
  "latex_envs": {
   "LaTeX_envs_menu_present": true,
   "bibliofile": "biblio.bib",
   "cite_by": "apalike",
   "current_citInitial": 1,
   "eqLabelWithNumbers": true,
   "eqNumInitial": 1,
   "labels_anchors": false,
   "latex_user_defs": false,
   "report_style_numbering": false,
   "user_envs_cfg": false
  }
 },
 "nbformat": 4,
 "nbformat_minor": 2
}
