{
 "cells": [
  {
   "cell_type": "markdown",
   "metadata": {},
   "source": [
    "#  Image Analysis"
   ]
  },
  {
   "cell_type": "markdown",
   "metadata": {},
   "source": [
    "## Imports"
   ]
  },
  {
   "cell_type": "code",
   "execution_count": 1,
   "metadata": {
    "ExecuteTime": {
     "end_time": "2018-05-23T09:16:16.553017Z",
     "start_time": "2018-05-23T09:16:14.456854Z"
    }
   },
   "outputs": [],
   "source": [
    "import numpy as np\n",
    "import pandas as pd\n",
    "import matplotlib.pyplot as plt\n",
    "from matplotlib import cm\n",
    "from scipy.misc import bytescale, toimage\n",
    "import sys\n",
    "import os\n",
    "#import gzip\n",
    "#from PIL import Image as pilImage\n",
    "\n",
    "from image import Image, show\n",
    "#from utils import unpickle, reshape_cifar10_image, process_cifar10_image\n",
    "from utils.utils import unpickle, reshape_cifar10_image, process_cifar10_image\n",
    "from utils.utils import block_resampling, jackknife_err, get_plot_num\n",
    "from utils.count_bonds import CountBonds\n",
    "from utils.block_images import block_image\n",
    "from utils.plot_helper import errorbar_plot\n",
    "\n",
    "markers = ['s', 'H', 'd', 'v', 'p', 'P']\n",
    "colors = ['#2A9Df8', '#FF920B', '#65e41d', '#be67ff', '#ff7e79', '#959595']\n",
    "markeredgecolors = ['#0256a3', '#ed4c18',  '#00B000', '#6633cc',\n",
    "                    '#ee2324','#1c2022']\n",
    "\n",
    "%matplotlib inline"
   ]
  },
  {
   "cell_type": "code",
   "execution_count": 2,
   "metadata": {
    "ExecuteTime": {
     "end_time": "2018-05-23T09:16:16.603956Z",
     "start_time": "2018-05-23T09:16:16.555164Z"
    }
   },
   "outputs": [],
   "source": [
    "def get_bdy_images(cutoffs, images):\n",
    "    bdy_images = []\n",
    "    for image in images:\n",
    "        img = Image(image)\n",
    "        # for each image, try different cutoff values and \n",
    "        # append resulting image # to boundary_images array\n",
    "        cutoff_images = np.array([img.get_boundaries(cutoff) \n",
    "                                  for cutoff in cutoffs])\n",
    "        bdy_images.append(np.array(cutoff_images))\n",
    "    return np.array(bdy_images)"
   ]
  },
  {
   "cell_type": "code",
   "execution_count": 4,
   "metadata": {
    "ExecuteTime": {
     "end_time": "2018-05-23T09:16:21.139440Z",
     "start_time": "2018-05-23T09:16:21.099439Z"
    }
   },
   "outputs": [],
   "source": [
    "def block_images(images):\n",
    "    original_size = images[0][0].shape[0]\n",
    "    new_size = original_size // 2\n",
    "    blocked_boundary_images = []\n",
    "    for image_set in images:\n",
    "        blocked_images = np.array([block_image(image) for image in image_set])\n",
    "        blocked_boundary_images.append(blocked_images)\n",
    "    blocked_boundary_images = np.array(blocked_boundary_images)\n",
    "    return blocked_boundary_images"
   ]
  },
  {
   "cell_type": "code",
   "execution_count": 5,
   "metadata": {
    "ExecuteTime": {
     "end_time": "2018-05-23T09:16:21.417867Z",
     "start_time": "2018-05-23T09:16:21.355703Z"
    }
   },
   "outputs": [],
   "source": [
    "def count_bonds_helper(images, num_blocks=20):\n",
    "    # swap first two axes so that each row corresponds \n",
    "    # to a unique value of greyscale cutoff, across all images\n",
    "    num_images = images.shape[0]\n",
    "    num_cutoffs = images.shape[1]\n",
    "    image_size = int(np.sqrt(images[0][0].flatten().shape[-1]))\n",
    "    if len(images.shape) == 4:\n",
    "        images = np.transpose(images, (1, 0, 2, 3))\n",
    "    else:\n",
    "        if len(images.shape) == 3:\n",
    "            images = np.transpose(images, (1, 0, 2))\n",
    "        else:\n",
    "            raise ValueError(\"Images have the wrong shape.\")\n",
    "    images = images.reshape((num_cutoffs, num_images, \n",
    "                            image_size, image_size))\n",
    "    bond_stats = np.array([CountBonds(imgs, num_blocks).count_bonds() \n",
    "                           for imgs in images])\n",
    "    return np.array(bond_stats)"
   ]
  },
  {
   "cell_type": "markdown",
   "metadata": {
    "heading_collapsed": true
   },
   "source": [
    "## Download CIFAR-10 dataset and extract into './cifar10_data/' directory"
   ]
  },
  {
   "cell_type": "code",
   "execution_count": 2,
   "metadata": {
    "ExecuteTime": {
     "end_time": "2018-05-14T00:43:06.481709Z",
     "start_time": "2018-05-14T00:42:22.187366Z"
    },
    "hidden": true
   },
   "outputs": [
    {
     "name": "stdout",
     "output_type": "stream",
     "text": [
      "  % Total    % Received % Xferd  Average Speed   Time    Time     Time  Current\n",
      "                                 Dload  Upload   Total   Spent    Left  Speed\n",
      "100  162M  100  162M    0     0  3900k      0  0:00:42  0:00:42 --:--:-- 2420kM    0     0  3955k      0  0:00:42  0:00:18  0:00:24 3382kM    0     0  4195k      0  0:00:39  0:00:26  0:00:13 5285k  0     0  4143k      0  0:00:40  0:00:28  0:00:12 4105k3M    0     0  4135k      0  0:00:40  0:00:30  0:00:10 3556k\n",
      "x cifar-10-batches-py/\n",
      "x cifar-10-batches-py/data_batch_4\n",
      "x cifar-10-batches-py/readme.html\n",
      "x cifar-10-batches-py/test_batch\n",
      "x cifar-10-batches-py/data_batch_3\n",
      "x cifar-10-batches-py/batches.meta\n",
      "x cifar-10-batches-py/data_batch_2\n",
      "x cifar-10-batches-py/data_batch_5\n",
      "x cifar-10-batches-py/data_batch_1\n"
     ]
    }
   ],
   "source": [
    "# download cifar-10-data and extract into './cifar10_data/' directory\n",
    "! mkdir cifar10_data \n",
    "! curl -O https://www.cs.toronto.edu/~kriz/cifar-10-python.tar.gz\n",
    "! tar -xvf cifar-10-python.tar.gz -C ./cifar10_data"
   ]
  },
  {
   "cell_type": "markdown",
   "metadata": {},
   "source": [
    "## Testing with CIFAR-10"
   ]
  },
  {
   "cell_type": "markdown",
   "metadata": {},
   "source": [
    "### Define relevant directories, load first batch of data "
   ]
  },
  {
   "cell_type": "code",
   "execution_count": 6,
   "metadata": {
    "ExecuteTime": {
     "end_time": "2018-05-23T09:16:29.218524Z",
     "start_time": "2018-05-23T09:16:29.026322Z"
    }
   },
   "outputs": [],
   "source": [
    "cifar10_data_prefix = './data/cifar10_data/cifar-10-batches-py/'\n",
    "cifar10_data_batch1_file = cifar10_data_prefix + 'data_batch_1'\n",
    "cifar10_data_batch2_file = cifar10_data_prefix + 'data_batch_2'\n",
    "cifar10_data_batch3_file = cifar10_data_prefix + 'data_batch_3'\n",
    "cifar10_data_batch4_file = cifar10_data_prefix + 'data_batch_4'\n",
    "cifar10_data_batch5_file = cifar10_data_prefix + 'data_batch_5'\n",
    "\n",
    "cifar10_batch1 = unpickle(cifar10_data_batch1_file)\n",
    "cifar10_batch2 = unpickle(cifar10_data_batch2_file)\n",
    "cifar10_batch3 = unpickle(cifar10_data_batch3_file)"
   ]
  },
  {
   "cell_type": "code",
   "execution_count": 7,
   "metadata": {
    "ExecuteTime": {
     "end_time": "2018-05-23T09:16:29.665117Z",
     "start_time": "2018-05-23T09:16:29.637729Z"
    }
   },
   "outputs": [
    {
     "name": "stdout",
     "output_type": "stream",
     "text": [
      "dict_keys([b'batch_label', b'labels', b'data', b'filenames'])\n",
      "dict_keys([b'batch_label', b'labels', b'data', b'filenames'])\n",
      "dict_keys([b'batch_label', b'labels', b'data', b'filenames'])\n"
     ]
    }
   ],
   "source": [
    "print(cifar10_batch1.keys())\n",
    "print(cifar10_batch2.keys())\n",
    "print(cifar10_batch3.keys())"
   ]
  },
  {
   "cell_type": "markdown",
   "metadata": {},
   "source": [
    "### Examples"
   ]
  },
  {
   "cell_type": "code",
   "execution_count": 10,
   "metadata": {
    "ExecuteTime": {
     "end_time": "2018-05-23T04:07:03.339372Z",
     "start_time": "2018-05-23T04:07:02.197574Z"
    }
   },
   "outputs": [
    {
     "data": {
      "text/plain": [
       "(<matplotlib.figure.Figure at 0x1150cfac8>,\n",
       " <matplotlib.axes._subplots.AxesSubplot at 0x1150e0208>)"
      ]
     },
     "execution_count": 10,
     "metadata": {},
     "output_type": "execute_result"
    },
    {
     "data": {
      "text/plain": [
       "(<matplotlib.figure.Figure at 0x1150cfb38>,\n",
       " <matplotlib.axes._subplots.AxesSubplot at 0x115181fd0>)"
      ]
     },
     "execution_count": 10,
     "metadata": {},
     "output_type": "execute_result"
    },
    {
     "data": {
      "text/plain": [
       "(<matplotlib.figure.Figure at 0x115181be0>,\n",
       " <matplotlib.axes._subplots.AxesSubplot at 0x1151fe748>)"
      ]
     },
     "execution_count": 10,
     "metadata": {},
     "output_type": "execute_result"
    },
    {
     "data": {
      "image/png": "[encoded data removed]",
      "text/plain": [
       "<matplotlib.figure.Figure at 0x1150cfac8>"
      ]
     },
     "metadata": {},
     "output_type": "display_data"
    },
    {
     "data": {
      "image/png": "[encoded data removed]",
      "text/plain": [
       "<matplotlib.figure.Figure at 0x1150cfb38>"
      ]
     },
     "metadata": {},
     "output_type": "display_data"
    },
    {
     "data": {
      "image/png": "[encoded data removed]",
      "text/plain": [
       "<matplotlib.figure.Figure at 0x115181be0>"
      ]
     },
     "metadata": {},
     "output_type": "display_data"
    }
   ],
   "source": [
    "# extract first three images from dataset and plot, just for reference\n",
    "image0 = process_cifar10_image(cifar10_batch1[b'data'][0])\n",
    "image1 = process_cifar10_image(cifar10_batch1[b'data'][1])\n",
    "image2 = process_cifar10_image(cifar10_batch1[b'data'][2])\n",
    "\n",
    "show(image0)\n",
    "show(image1)\n",
    "show(image2)"
   ]
  },
  {
   "cell_type": "code",
   "execution_count": 11,
   "metadata": {
    "ExecuteTime": {
     "end_time": "2018-05-23T04:07:07.040453Z",
     "start_time": "2018-05-23T04:07:04.865408Z"
    }
   },
   "outputs": [
    {
     "name": "stdout",
     "output_type": "stream",
     "text": [
      "cutoff: 0.25, Nb: 231\n",
      "cutoff: 0.255, Nb: 227\n",
      "cutoff: 0.26, Nb: 227\n",
      "cutoff: 0.265, Nb: 227\n",
      "cutoff: 0.27, Nb: 224\n",
      "cutoff: 0.275, Nb: 228\n",
      "cutoff: 0.28, Nb: 228\n",
      "cutoff: 0.28500000000000003, Nb: 228\n",
      "cutoff: 0.29000000000000004, Nb: 228\n",
      "cutoff: 0.29500000000000004, Nb: 228\n",
      "cutoff: 0.30000000000000004, Nb: 228\n",
      "cutoff: 0.30500000000000005, Nb: 228\n",
      "cutoff: 0.31000000000000005, Nb: 232\n",
      "cutoff: 0.31500000000000006, Nb: 232\n",
      "cutoff: 0.32000000000000006, Nb: 240\n",
      "cutoff: 0.32500000000000007, Nb: 240\n",
      "cutoff: 0.33000000000000007, Nb: 248\n",
      "cutoff: 0.3350000000000001, Nb: 248\n",
      "cutoff: 0.3400000000000001, Nb: 248\n",
      "cutoff: 0.3450000000000001, Nb: 248\n",
      "cutoff: 0.3500000000000001, Nb: 244\n",
      "cutoff: 0.3550000000000001, Nb: 244\n",
      "cutoff: 0.3600000000000001, Nb: 244\n",
      "cutoff: 0.3650000000000001, Nb: 247\n",
      "cutoff: 0.3700000000000001, Nb: 247\n",
      "cutoff: 0.3750000000000001, Nb: 255\n",
      "cutoff: 0.3800000000000001, Nb: 255\n",
      "cutoff: 0.3850000000000001, Nb: 255\n",
      "cutoff: 0.3900000000000001, Nb: 259\n",
      "cutoff: 0.39500000000000013, Nb: 263\n",
      "cutoff: 0.40000000000000013, Nb: 271\n",
      "cutoff: 0.40500000000000014, Nb: 271\n",
      "cutoff: 0.41000000000000014, Nb: 271\n",
      "cutoff: 0.41500000000000015, Nb: 271\n",
      "cutoff: 0.42000000000000015, Nb: 279\n",
      "cutoff: 0.42500000000000016, Nb: 279\n",
      "cutoff: 0.43000000000000016, Nb: 287\n",
      "cutoff: 0.43500000000000016, Nb: 287\n",
      "cutoff: 0.44000000000000017, Nb: 291\n",
      "cutoff: 0.4450000000000002, Nb: 291\n",
      "cutoff: 0.4500000000000002, Nb: 291\n",
      "cutoff: 0.4550000000000002, Nb: 291\n",
      "cutoff: 0.4600000000000002, Nb: 291\n",
      "cutoff: 0.4650000000000002, Nb: 291\n",
      "cutoff: 0.4700000000000002, Nb: 286\n",
      "cutoff: 0.4750000000000002, Nb: 288\n",
      "cutoff: 0.4800000000000002, Nb: 284\n",
      "cutoff: 0.4850000000000002, Nb: 284\n",
      "cutoff: 0.4900000000000002, Nb: 287\n",
      "cutoff: 0.4950000000000002, Nb: 287\n",
      "cutoff: 0.5000000000000002, Nb: 295\n",
      "cutoff: 0.5050000000000002, Nb: 306\n",
      "cutoff: 0.5100000000000002, Nb: 298\n",
      "cutoff: 0.5150000000000002, Nb: 306\n",
      "cutoff: 0.5200000000000002, Nb: 310\n",
      "cutoff: 0.5250000000000002, Nb: 310\n",
      "cutoff: 0.5300000000000002, Nb: 318\n",
      "cutoff: 0.5350000000000003, Nb: 315\n",
      "cutoff: 0.5400000000000003, Nb: 319\n",
      "cutoff: 0.5450000000000003, Nb: 319\n",
      "cutoff: 0.5500000000000003, Nb: 315\n",
      "cutoff: 0.5550000000000003, Nb: 319\n",
      "cutoff: 0.5600000000000003, Nb: 322\n",
      "cutoff: 0.5650000000000003, Nb: 322\n",
      "cutoff: 0.5700000000000003, Nb: 323\n",
      "cutoff: 0.5750000000000003, Nb: 323\n",
      "cutoff: 0.5800000000000003, Nb: 331\n",
      "cutoff: 0.5850000000000003, Nb: 339\n",
      "cutoff: 0.5900000000000003, Nb: 339\n",
      "cutoff: 0.5950000000000003, Nb: 355\n",
      "cutoff: 0.6000000000000003, Nb: 356\n",
      "cutoff: 0.6050000000000003, Nb: 371\n",
      "cutoff: 0.6100000000000003, Nb: 372\n",
      "cutoff: 0.6150000000000003, Nb: 372\n",
      "cutoff: 0.6200000000000003, Nb: 380\n",
      "cutoff: 0.6250000000000003, Nb: 383\n",
      "cutoff: 0.6300000000000003, Nb: 379\n",
      "cutoff: 0.6350000000000003, Nb: 387\n",
      "cutoff: 0.6400000000000003, Nb: 383\n",
      "cutoff: 0.6450000000000004, Nb: 380\n",
      "cutoff: 0.6500000000000004, Nb: 372\n",
      "cutoff: 0.6550000000000004, Nb: 371\n",
      "cutoff: 0.6600000000000004, Nb: 363\n",
      "cutoff: 0.6650000000000004, Nb: 360\n",
      "cutoff: 0.6700000000000004, Nb: 356\n",
      "cutoff: 0.6750000000000004, Nb: 363\n",
      "cutoff: 0.6800000000000004, Nb: 375\n",
      "cutoff: 0.6850000000000004, Nb: 383\n",
      "cutoff: 0.6900000000000004, Nb: 375\n",
      "cutoff: 0.6950000000000004, Nb: 383\n",
      "cutoff: 0.7000000000000004, Nb: 383\n",
      "cutoff: 0.7050000000000004, Nb: 387\n",
      "cutoff: 0.7100000000000004, Nb: 398\n",
      "cutoff: 0.7150000000000004, Nb: 409\n",
      "cutoff: 0.7200000000000004, Nb: 415\n",
      "cutoff: 0.7250000000000004, Nb: 415\n",
      "cutoff: 0.7300000000000004, Nb: 424\n",
      "cutoff: 0.7350000000000004, Nb: 443\n",
      "cutoff: 0.7400000000000004, Nb: 453\n",
      "cutoff: 0.7450000000000004, Nb: 462\n",
      "cutoff: 0.7500000000000004, Nb: 463\n",
      "cutoff: 0.7550000000000004, Nb: 475\n",
      "cutoff: 0.7600000000000005, Nb: 471\n",
      "cutoff: 0.7650000000000005, Nb: 430\n",
      "cutoff: 0.7700000000000005, Nb: 425\n",
      "cutoff: 0.7750000000000005, Nb: 419\n",
      "cutoff: 0.7800000000000005, Nb: 422\n",
      "cutoff: 0.7850000000000005, Nb: 390\n",
      "cutoff: 0.7900000000000005, Nb: 390\n",
      "cutoff: 0.7950000000000005, Nb: 390\n",
      "cutoff: 0.8000000000000005, Nb: 404\n",
      "cutoff: 0.8050000000000005, Nb: 393\n",
      "cutoff: 0.8100000000000005, Nb: 374\n",
      "cutoff: 0.8150000000000005, Nb: 378\n",
      "cutoff: 0.8200000000000005, Nb: 363\n",
      "cutoff: 0.8250000000000005, Nb: 342\n",
      "cutoff: 0.8300000000000005, Nb: 323\n",
      "cutoff: 0.8350000000000005, Nb: 311\n",
      "cutoff: 0.8400000000000005, Nb: 296\n",
      "cutoff: 0.8450000000000005, Nb: 303\n"
     ]
    }
   ],
   "source": [
    "# extract B/W boundaries using cutoff = 0.5 and show resulting image\n",
    "cutoffs = np.arange(0.25, 0.85, 0.005)\n",
    "boundary_img = []\n",
    "Nb_1 = []\n",
    "#img0 = Image(image0)\n",
    "img2 = Image(image2)\n",
    "for cutoff in cutoffs:\n",
    "    bdy_img = img2.get_boundaries(cutoff)\n",
    "    boundary_img.append(bdy_img)\n",
    "    Nb_1.append(np.sum(bdy_img))\n",
    "    print(f'cutoff: {cutoff}, Nb: {np.sum(bdy_img)}')\n",
    "    #show(bdy_img)"
   ]
  },
  {
   "cell_type": "markdown",
   "metadata": {
    "heading_collapsed": true
   },
   "source": [
    "#### Iteratively block sample image (example)"
   ]
  },
  {
   "cell_type": "code",
   "execution_count": 21,
   "metadata": {
    "ExecuteTime": {
     "end_time": "2018-05-15T11:05:36.842408Z",
     "start_time": "2018-05-15T11:05:36.815023Z"
    },
    "hidden": true
   },
   "outputs": [],
   "source": [
    "# iteratively block image:\n",
    "#    (64, 64) --> (32, 32) --> (16,16) --> (8, 8) --> (4, 4)\n",
    "blocked1_boundary_img0 = block_image(boundary_img0)\n",
    "blocked2_boundary_img0 = block_image(blocked1_boundary_img0)\n",
    "blocked3_boundary_img0 = block_image(blocked2_boundary_img0)\n",
    "blocked4_boundary_img0 = block_image(blocked3_boundary_img0)"
   ]
  },
  {
   "cell_type": "code",
   "execution_count": 22,
   "metadata": {
    "ExecuteTime": {
     "end_time": "2018-05-15T11:05:39.545784Z",
     "start_time": "2018-05-15T11:05:37.983172Z"
    },
    "hidden": true,
    "scrolled": true
   },
   "outputs": [
    {
     "data": {
      "text/plain": [
       "(<matplotlib.figure.Figure at 0x11109bcf8>,\n",
       " <matplotlib.axes._subplots.AxesSubplot at 0x1167ddb38>)"
      ]
     },
     "execution_count": 22,
     "metadata": {},
     "output_type": "execute_result"
    },
    {
     "data": {
      "text/plain": [
       "(<matplotlib.figure.Figure at 0x11109b9e8>,\n",
       " <matplotlib.axes._subplots.AxesSubplot at 0x1169414e0>)"
      ]
     },
     "execution_count": 22,
     "metadata": {},
     "output_type": "execute_result"
    },
    {
     "data": {
      "text/plain": [
       "(<matplotlib.figure.Figure at 0x1167b8710>,\n",
       " <matplotlib.axes._subplots.AxesSubplot at 0x11136b6d8>)"
      ]
     },
     "execution_count": 22,
     "metadata": {},
     "output_type": "execute_result"
    },
    {
     "data": {
      "text/plain": [
       "(<matplotlib.figure.Figure at 0x1168d08d0>,\n",
       " <matplotlib.axes._subplots.AxesSubplot at 0x1166f70b8>)"
      ]
     },
     "execution_count": 22,
     "metadata": {},
     "output_type": "execute_result"
    },
    {
     "data": {
      "text/plain": [
       "(<matplotlib.figure.Figure at 0x116700d30>,\n",
       " <matplotlib.axes._subplots.AxesSubplot at 0x1166b5be0>)"
      ]
     },
     "execution_count": 22,
     "metadata": {},
     "output_type": "execute_result"
    },
    {
     "data": {
      "image/png": "[encoded data removed]",
      "text/plain": [
       "<matplotlib.figure.Figure at 0x11109bcf8>"
      ]
     },
     "metadata": {},
     "output_type": "display_data"
    },
    {
     "data": {
      "image/png": "[encoded data removed]",
      "text/plain": [
       "<matplotlib.figure.Figure at 0x11109b9e8>"
      ]
     },
     "metadata": {},
     "output_type": "display_data"
    },
    {
     "data": {
      "image/png": "[encoded data removed]",
      "text/plain": [
       "<matplotlib.figure.Figure at 0x1167b8710>"
      ]
     },
     "metadata": {},
     "output_type": "display_data"
    },
    {
     "data": {
      "image/png": "[encoded data removed]",
      "text/plain": [
       "<matplotlib.figure.Figure at 0x1168d08d0>"
      ]
     },
     "metadata": {},
     "output_type": "display_data"
    },
    {
     "data": {
      "image/png": "[encoded data removed]",
      "text/plain": [
       "<matplotlib.figure.Figure at 0x116700d30>"
      ]
     },
     "metadata": {},
     "output_type": "display_data"
    }
   ],
   "source": [
    "show(boundary_img0)\n",
    "show(blocked1_boundary_img0.reshape((32,32)))\n",
    "show(blocked2_boundary_img0.reshape((16,16)))\n",
    "show(blocked3_boundary_img0.reshape((8,8)))\n",
    "show(blocked4_boundary_img0.reshape((4,4)))"
   ]
  },
  {
   "cell_type": "markdown",
   "metadata": {},
   "source": [
    "### Shuffle data and load images for analysis"
   ]
  },
  {
   "cell_type": "code",
   "execution_count": 8,
   "metadata": {
    "ExecuteTime": {
     "end_time": "2018-05-23T09:16:40.828203Z",
     "start_time": "2018-05-23T09:16:40.801971Z"
    }
   },
   "outputs": [],
   "source": [
    "from utils.count_bonds import CountBonds"
   ]
  },
  {
   "cell_type": "code",
   "execution_count": 9,
   "metadata": {
    "ExecuteTime": {
     "end_time": "2018-05-23T09:16:41.188814Z",
     "start_time": "2018-05-23T09:16:41.072117Z"
    }
   },
   "outputs": [],
   "source": [
    "# shuffle data\n",
    "np.random.shuffle(cifar10_batch1[b'data'])\n",
    "np.random.shuffle(cifar10_batch2[b'data'])\n",
    "np.random.shuffle(cifar10_batch3[b'data'])\n",
    "# select first num_sample_images from batch1 as sample data"
   ]
  },
  {
   "cell_type": "code",
   "execution_count": 10,
   "metadata": {
    "ExecuteTime": {
     "end_time": "2018-05-23T09:16:41.990386Z",
     "start_time": "2018-05-23T09:16:41.760320Z"
    }
   },
   "outputs": [
    {
     "name": "stdout",
     "output_type": "stream",
     "text": [
      "(200, 32, 32)\n",
      "(200, 32, 32)\n",
      "(200, 32, 32)\n"
     ]
    }
   ],
   "source": [
    "num_sample_images = 200\n",
    "cifar10_images0 = np.array([process_cifar10_image(img) for img in\n",
    "                            cifar10_batch1[b'data'][:num_sample_images]])\n",
    "cifar10_images1 = np.array([process_cifar10_image(img) for img in\n",
    "                            cifar10_batch2[b'data'][:num_sample_images]])\n",
    "cifar10_images2 = np.array([process_cifar10_image(img) for img in\n",
    "                            cifar10_batch3[b'data'][:num_sample_images]])\n",
    "print(cifar10_images0.shape)\n",
    "print(cifar10_images1.shape)\n",
    "print(cifar10_images2.shape)"
   ]
  },
  {
   "cell_type": "markdown",
   "metadata": {},
   "source": [
    "### Define cutoffs and obtain boundary images"
   ]
  },
  {
   "cell_type": "code",
   "execution_count": 11,
   "metadata": {
    "ExecuteTime": {
     "end_time": "2018-05-23T09:21:46.104691Z",
     "start_time": "2018-05-23T09:16:50.174491Z"
    }
   },
   "outputs": [
    {
     "name": "stdout",
     "output_type": "stream",
     "text": [
      "(200, 50, 64, 64)\n",
      "(200, 50, 64, 64)\n",
      "(200, 50, 64, 64)\n"
     ]
    }
   ],
   "source": [
    "# create array of cutoffs for converting image to black/white pixels\n",
    "#cutoffs = np.arange(0.1, 1., 0.05)\n",
    "#cutoffs = [0.2, 0.3, 0.4]\n",
    "cutoffs = list(np.arange(0., 1., 0.02))\n",
    "\n",
    "cifar10_boundary_images0 = get_bdy_images(cutoffs, cifar10_images0)\n",
    "cifar10_boundary_images1 = get_bdy_images(cutoffs, cifar10_images1)\n",
    "cifar10_boundary_images2 = get_bdy_images(cutoffs, cifar10_images2)\n",
    "print(cifar10_boundary_images0.shape)\n",
    "print(cifar10_boundary_images1.shape)\n",
    "print(cifar10_boundary_images2.shape)"
   ]
  },
  {
   "cell_type": "markdown",
   "metadata": {},
   "source": [
    "### Blocking steps"
   ]
  },
  {
   "cell_type": "markdown",
   "metadata": {},
   "source": [
    "#### Block boundary images $L = 64 \\rightarrow 32$"
   ]
  },
  {
   "cell_type": "code",
   "execution_count": 12,
   "metadata": {
    "ExecuteTime": {
     "end_time": "2018-05-23T09:22:04.396537Z",
     "start_time": "2018-05-23T09:21:46.106515Z"
    }
   },
   "outputs": [
    {
     "name": "stdout",
     "output_type": "stream",
     "text": [
      "(200, 50, 1024)\n",
      "(200, 50, 1024)\n",
      "(200, 50, 1024)\n"
     ]
    }
   ],
   "source": [
    "blocked0_boundary_images0 = block_images(cifar10_boundary_images0)\n",
    "blocked0_boundary_images1 = block_images(cifar10_boundary_images1)\n",
    "blocked0_boundary_images2 = block_images(cifar10_boundary_images2)\n",
    "print(blocked0_boundary_images0.shape)\n",
    "print(blocked0_boundary_images1.shape)\n",
    "print(blocked0_boundary_images2.shape)"
   ]
  },
  {
   "cell_type": "markdown",
   "metadata": {},
   "source": [
    "#### Block again! (using blocked images from above) $ L = 32 \\rightarrow 16$"
   ]
  },
  {
   "cell_type": "code",
   "execution_count": 13,
   "metadata": {
    "ExecuteTime": {
     "end_time": "2018-05-23T09:22:09.806304Z",
     "start_time": "2018-05-23T09:22:04.398160Z"
    }
   },
   "outputs": [
    {
     "name": "stdout",
     "output_type": "stream",
     "text": [
      "(200, 50, 256)\n",
      "(200, 50, 256)\n",
      "(200, 50, 256)\n"
     ]
    }
   ],
   "source": [
    "blocked1_boundary_images0 = block_images(blocked0_boundary_images0)\n",
    "blocked1_boundary_images1 = block_images(blocked0_boundary_images1)\n",
    "blocked1_boundary_images2 = block_images(blocked0_boundary_images2)\n",
    "print(blocked1_boundary_images0.shape)\n",
    "print(blocked1_boundary_images1.shape)\n",
    "print(blocked1_boundary_images2.shape)"
   ]
  },
  {
   "cell_type": "markdown",
   "metadata": {},
   "source": [
    "#### And again! (using blocked images from above) $ L = 16 \\rightarrow 8$"
   ]
  },
  {
   "cell_type": "code",
   "execution_count": 14,
   "metadata": {
    "ExecuteTime": {
     "end_time": "2018-05-23T09:22:14.858453Z",
     "start_time": "2018-05-23T09:22:09.813621Z"
    }
   },
   "outputs": [
    {
     "name": "stdout",
     "output_type": "stream",
     "text": [
      "(200, 50, 256)\n",
      "(200, 50, 256)\n",
      "(200, 50, 256)\n"
     ]
    }
   ],
   "source": [
    "blocked2_boundary_images0 = block_images(blocked0_boundary_images0)\n",
    "blocked2_boundary_images1 = block_images(blocked0_boundary_images1)\n",
    "blocked2_boundary_images2 = block_images(blocked0_boundary_images2)\n",
    "print(blocked2_boundary_images0.shape)\n",
    "print(blocked2_boundary_images1.shape)\n",
    "print(blocked2_boundary_images2.shape)"
   ]
  },
  {
   "cell_type": "markdown",
   "metadata": {},
   "source": [
    "### Count bonds ($\\langle N_b\\rangle$, $\\langle \\Delta_{N_b}^2\\rangle$)"
   ]
  },
  {
   "cell_type": "markdown",
   "metadata": {},
   "source": [
    "#### Unblocked: $L = 64$"
   ]
  },
  {
   "cell_type": "code",
   "execution_count": 15,
   "metadata": {
    "ExecuteTime": {
     "end_time": "2018-05-23T09:29:50.894318Z",
     "start_time": "2018-05-23T09:22:14.860408Z"
    }
   },
   "outputs": [
    {
     "name": "stdout",
     "output_type": "stream",
     "text": [
      "(50, 4)\n",
      "(50, 4)\n",
      "(50, 4)\n"
     ]
    }
   ],
   "source": [
    "bond_stats0 = count_bonds_helper(cifar10_boundary_images0, num_blocks=20)\n",
    "bond_stats1 = count_bonds_helper(cifar10_boundary_images1, num_blocks=20)\n",
    "bond_stats2 = count_bonds_helper(cifar10_boundary_images2, num_blocks=20)\n",
    "\n",
    "print(bond_stats0.shape)\n",
    "print(bond_stats1.shape)\n",
    "print(bond_stats2.shape)"
   ]
  },
  {
   "cell_type": "markdown",
   "metadata": {},
   "source": [
    "#### Blocked once: $L = 32$  "
   ]
  },
  {
   "cell_type": "code",
   "execution_count": 16,
   "metadata": {
    "ExecuteTime": {
     "end_time": "2018-05-23T09:31:54.666703Z",
     "start_time": "2018-05-23T09:29:50.895896Z"
    },
    "run_control": {
     "marked": true
    }
   },
   "outputs": [
    {
     "name": "stdout",
     "output_type": "stream",
     "text": [
      "(50, 4)\n",
      "(50, 4)\n",
      "(50, 4)\n"
     ]
    }
   ],
   "source": [
    "bond_stats0_blocked0 = count_bonds_helper(blocked0_boundary_images0, \n",
    "                                          num_blocks=20)\n",
    "bond_stats1_blocked0 = count_bonds_helper(blocked0_boundary_images1, \n",
    "                                          num_blocks=20)\n",
    "bond_stats2_blocked0 = count_bonds_helper(blocked0_boundary_images2, \n",
    "                                          num_blocks=20)\n",
    "print(bond_stats0_blocked0.shape)\n",
    "print(bond_stats1_blocked0.shape)\n",
    "print(bond_stats2_blocked0.shape)"
   ]
  },
  {
   "cell_type": "markdown",
   "metadata": {},
   "source": [
    "#### Blocked twice: $L = 16$  "
   ]
  },
  {
   "cell_type": "code",
   "execution_count": 17,
   "metadata": {
    "ExecuteTime": {
     "end_time": "2018-05-23T09:32:34.126050Z",
     "start_time": "2018-05-23T09:31:54.668895Z"
    }
   },
   "outputs": [
    {
     "name": "stdout",
     "output_type": "stream",
     "text": [
      "(50, 4)\n",
      "(50, 4)\n",
      "(50, 4)\n"
     ]
    }
   ],
   "source": [
    "bond_stats0_blocked1 = count_bonds_helper(blocked1_boundary_images0, \n",
    "                                          num_blocks=20)\n",
    "bond_stats1_blocked1 = count_bonds_helper(blocked1_boundary_images1, \n",
    "                                          num_blocks=20)\n",
    "bond_stats2_blocked1 = count_bonds_helper(blocked1_boundary_images2, \n",
    "                                          num_blocks=20)\n",
    "print(bond_stats0_blocked1.shape)\n",
    "print(bond_stats1_blocked1.shape)\n",
    "print(bond_stats2_blocked1.shape)"
   ]
  },
  {
   "cell_type": "markdown",
   "metadata": {},
   "source": [
    "#### Blocked thrice: $L = 8$  "
   ]
  },
  {
   "cell_type": "code",
   "execution_count": 18,
   "metadata": {
    "ExecuteTime": {
     "end_time": "2018-05-23T09:33:12.916086Z",
     "start_time": "2018-05-23T09:32:34.127560Z"
    }
   },
   "outputs": [
    {
     "name": "stdout",
     "output_type": "stream",
     "text": [
      "(50, 4)\n",
      "(50, 4)\n",
      "(50, 4)\n"
     ]
    }
   ],
   "source": [
    "bond_stats0_blocked2 = count_bonds_helper(blocked2_boundary_images0, \n",
    "                                          num_blocks=20)\n",
    "bond_stats1_blocked2 = count_bonds_helper(blocked2_boundary_images1, \n",
    "                                          num_blocks=20)\n",
    "bond_stats2_blocked2 = count_bonds_helper(blocked2_boundary_images2, \n",
    "                                          num_blocks=20)\n",
    "print(bond_stats0_blocked1.shape)\n",
    "print(bond_stats1_blocked1.shape)\n",
    "print(bond_stats2_blocked1.shape)"
   ]
  },
  {
   "cell_type": "code",
   "execution_count": null,
   "metadata": {
    "ExecuteTime": {
     "end_time": "2018-05-23T04:12:42.599315Z",
     "start_time": "2018-05-23T04:07:44.776Z"
    }
   },
   "outputs": [],
   "source": [
    "# swap first two axes so that each row corresponds \n",
    "# to a unique value of greyscale cutoff, across all images\n",
    "blocked2_boundary_imagesT0 = np.transpose(blocked2_boundary_images0, \n",
    "                                          (1, 0, 2, 3))\n",
    "#blocked2_boundary_imagesT1 = np.transpose(blocked2_boundary_images1, \n",
    "#                                          (1, 0, 2, 3))\n",
    "#blocked2_boundary_imagesT2 = np.transpose(blocked2_boundary_images2, \n",
    "#                                         (1, 0, 2, 3))\n",
    "\n",
    "bond_stats0_blocked2 = []\n",
    "for cutoff_images in blocked2_boundary_imagesT0:\n",
    "    count_bonds0_blocked2 = CountBonds(image_set=cutoff_images, num_blocks=20)\n",
    "    bond_stats0_blocked2.append(count_bonds0_blocked2.count_bonds())\n",
    "    \n",
    "#bond_stats1_blocked2 = []\n",
    "#for cutoff_images in blocked2_boundary_imagesT1:\n",
    "#    count_bonds1_blocked2 = CountBonds(image_set=cutoff_images, num_blocks=10)\n",
    "#    bond_stats1_blocked2.append(count_bonds1_blocked2.count_bonds())\n",
    "    \n",
    "#bond_stats2_blocked2 = []\n",
    "#for cutoff_images in blocked_boundary_imagesT2:\n",
    "#    count_bonds2_blocked2 = CountBonds(image_set=cutoff_images, num_blocks=10)\n",
    "#    bond_stats2_blocked2.append(count_bonds2_blocked2.count_bonds())\n",
    "    \n",
    "bond_stats0_blocked2 = np.array(bond_stats0_blocked2)\n",
    "#bond_stats1_blocked2 = np.array(bond_stats1_blocked2)\n",
    "#bond_stats2_blocked2 = np.array(bond_stats2_blocked2)"
   ]
  },
  {
   "cell_type": "markdown",
   "metadata": {},
   "source": [
    "## Plots"
   ]
  },
  {
   "cell_type": "markdown",
   "metadata": {},
   "source": [
    "### $\\langle N_b\\rangle$ vs. cutoff"
   ]
  },
  {
   "cell_type": "code",
   "execution_count": 19,
   "metadata": {
    "ExecuteTime": {
     "end_time": "2018-05-23T09:33:19.004198Z",
     "start_time": "2018-05-23T09:33:12.918560Z"
    }
   },
   "outputs": [
    {
     "data": {
      "text/plain": [
       "<Container object of 3 artists>"
      ]
     },
     "execution_count": 19,
     "metadata": {},
     "output_type": "execute_result"
    },
    {
     "data": {
      "text/plain": [
       "<Container object of 3 artists>"
      ]
     },
     "execution_count": 19,
     "metadata": {},
     "output_type": "execute_result"
    },
    {
     "data": {
      "text/plain": [
       "<Container object of 3 artists>"
      ]
     },
     "execution_count": 19,
     "metadata": {},
     "output_type": "execute_result"
    },
    {
     "data": {
      "text/plain": [
       "Text(0.5,0,'cutoff')"
      ]
     },
     "execution_count": 19,
     "metadata": {},
     "output_type": "execute_result"
    },
    {
     "data": {
      "text/plain": [
       "Text(0,0.5,'$\\\\langle N_b\\\\rangle / V_{eff}$')"
      ]
     },
     "execution_count": 19,
     "metadata": {},
     "output_type": "execute_result"
    },
    {
     "data": {
      "image/png": "[encoded data removed]",
      "text/plain": [
       "<matplotlib.figure.Figure at 0x10aad90f0>"
      ]
     },
     "metadata": {},
     "output_type": "display_data"
    },
    {
     "data": {
      "text/plain": [
       "<Container object of 3 artists>"
      ]
     },
     "execution_count": 19,
     "metadata": {},
     "output_type": "execute_result"
    },
    {
     "data": {
      "text/plain": [
       "<Container object of 3 artists>"
      ]
     },
     "execution_count": 19,
     "metadata": {},
     "output_type": "execute_result"
    },
    {
     "data": {
      "text/plain": [
       "<Container object of 3 artists>"
      ]
     },
     "execution_count": 19,
     "metadata": {},
     "output_type": "execute_result"
    },
    {
     "data": {
      "text/plain": [
       "Text(0.5,0,'cutoff')"
      ]
     },
     "execution_count": 19,
     "metadata": {},
     "output_type": "execute_result"
    },
    {
     "data": {
      "text/plain": [
       "Text(0,0.5,'$\\\\langle N_b\\\\rangle / V_{eff}$')"
      ]
     },
     "execution_count": 19,
     "metadata": {},
     "output_type": "execute_result"
    },
    {
     "data": {
      "image/png": "[encoded data removed]",
      "text/plain": [
       "<matplotlib.figure.Figure at 0x103f4f1d0>"
      ]
     },
     "metadata": {},
     "output_type": "display_data"
    },
    {
     "data": {
      "text/plain": [
       "<Container object of 3 artists>"
      ]
     },
     "execution_count": 19,
     "metadata": {},
     "output_type": "execute_result"
    },
    {
     "data": {
      "text/plain": [
       "<Container object of 3 artists>"
      ]
     },
     "execution_count": 19,
     "metadata": {},
     "output_type": "execute_result"
    },
    {
     "data": {
      "text/plain": [
       "<Container object of 3 artists>"
      ]
     },
     "execution_count": 19,
     "metadata": {},
     "output_type": "execute_result"
    },
    {
     "data": {
      "text/plain": [
       "Text(0.5,0,'cutoff')"
      ]
     },
     "execution_count": 19,
     "metadata": {},
     "output_type": "execute_result"
    },
    {
     "data": {
      "text/plain": [
       "Text(0,0.5,'$\\\\langle N_b\\\\rangle / V_{eff}$')"
      ]
     },
     "execution_count": 19,
     "metadata": {},
     "output_type": "execute_result"
    },
    {
     "data": {
      "image/png": "[encoded data removed]",
      "text/plain": [
       "<matplotlib.figure.Figure at 0x107eb00f0>"
      ]
     },
     "metadata": {},
     "output_type": "display_data"
    }
   ],
   "source": [
    "Nb_vals = np.array([bond_stats0[:, 0] / (64 * 64), \n",
    "                    bond_stats0_blocked0[:, 0] / (32 * 32),\n",
    "                    bond_stats0_blocked1[:, 0] / (16 * 16),\n",
    "                    bond_stats1[:, 0] / (64 * 64),\n",
    "                    bond_stats1_blocked0[:, 0] / (32 * 32),\n",
    "                    bond_stats1_blocked1[:, 0] / (16 * 16),\n",
    "                    bond_stats2[:, 0] / (64 * 64),\n",
    "                    bond_stats2_blocked0[:, 0] / (32 * 32),\n",
    "                    bond_stats2_blocked1[:, 0] / (16 * 16)])\n",
    "Nb_errs = np.array([bond_stats0[:, 1] / (64 * 64),\n",
    "                    bond_stats0_blocked0[:, 1] / (32 * 32),\n",
    "                    bond_stats0_blocked1[:, 1] / (16 * 16),\n",
    "                    bond_stats1[:, 1] / (64 * 64),\n",
    "                    bond_stats1_blocked0[:, 1] / (32 * 32),\n",
    "                    bond_stats1_blocked1[:, 1] / (16 * 16),\n",
    "                    bond_stats2[:, 1] / (64 * 64),\n",
    "                    bond_stats2_blocked0[:, 1] / (32 * 32),\n",
    "                    bond_stats2_blocked1[:, 1] / (16*16)])\n",
    "Nb_xlabel = \"cutoff\"\n",
    "Nb_ylabel = r\"$\\langle N_b\\rangle / V_{eff}$\"\n",
    "Nb_values = {'x': np.array(cutoffs), 'y': Nb_vals[0], 'y_err': Nb_errs[0]}\n",
    "Nb_labels = {'fig_labels': ['Batch 1', \n",
    "                            'Block step: 1', 'Block step: 2',  #'Block step: 3',\n",
    "                            'Batch 2', \n",
    "                            'Block step: 1', 'Block step: 2', #'Block step: 3'],\n",
    "                            'Batch 2', \n",
    "                            'Block step: 1', 'Block step: 2'],# 'Block step: 3'],\n",
    "             'x_label': Nb_xlabel, 'y_label': Nb_ylabel}\n",
    "limits = {'x_lim': (min(cutoffs) - 0.02, max(cutoffs) + 0.02)}\n",
    "Nb_avg_plot_dir = './plots/Nb_avg/'\n",
    "Nb_avg_plot_num = get_plot_num(Nb_avg_plot_dir)\n",
    "Nb_avg_plot_file = (Nb_avg_plot_dir \n",
    "                    + f'Nb_avg_vs_cutoff_{Nb_avg_plot_num}.png')\n",
    "#Nb_fig, Nb_ax = errorbar_plot(Nb_values, Nb_labels, Nb_avg_plot_file, \n",
    "#                              limits, markersize=3.5)\n",
    "cc = [0, 4, 8, 12]\n",
    "for idx, i in enumerate(range(2, len(Nb_vals), 3)):\n",
    "    #for idx, i in enumerate(range(len(Nb_vals))):\n",
    "    fig, ax = plt.subplots()\n",
    "    ax.errorbar(cutoffs, Nb_vals[i-2], yerr=Nb_errs[i-2],\n",
    "                label=Nb_labels['fig_labels'][i-2], \n",
    "                marker=markers[(i-2) // 3],\n",
    "                #marker=markers[(i-3) // 4],\n",
    "                markersize=3, fillstyle='none',\n",
    "                #color=colors[(i-2) // 3], \n",
    "                color=cm.tab20c(0 + cc[(i-2) //3]),\n",
    "                #color=cm.coolwarm_r(10),\n",
    "                #markeredgecolor=cm.coolwarm_r(0),\n",
    "                #markeredgecolor=markeredgecolors[(i-2) // 3],\n",
    "                ls='-', lw=1., elinewidth=0.5, capsize=2., capthick=1.)\n",
    "    ax.errorbar(cutoffs, Nb_vals[i-1], yerr=Nb_errs[i-1],\n",
    "                label=Nb_labels['fig_labels'][i-1], \n",
    "                #marker=markers[(i-2) // 3],\n",
    "                marker=markers[(i-2) // 3],\n",
    "                markersize=3, fillstyle='none',\n",
    "                color=cm.tab20c(1 + cc[(i-2) // 3]),\n",
    "                #color=colors[(i-2) // 3], \n",
    "                #color=cm.coolwarm_r(30),\n",
    "                #markeredgecolor=cm.coolwarm_r(20),\n",
    "                #markeredgecolor=markeredgecolors[(i-2) // 3],\n",
    "                ls='-', lw=1., elinewidth=0.5, capsize=2., capthick=1.)\n",
    "    ax.errorbar(cutoffs, Nb_vals[i], yerr=Nb_errs[i],\n",
    "                label=Nb_labels['fig_labels'][i], \n",
    "                marker=markers[(i-2) // 3],\n",
    "                markersize=3, fillstyle='none',\n",
    "                color=cm.tab20c(2 + cc[(i-2) // 3]),\n",
    "                #color=colors[(i-2) // 3], \n",
    "                #color=cm.tab20c(1 + cc[2]),\n",
    "                #color=cm.coolwarm_r(50),\n",
    "                #markeredgecolor=cm.coolwarm_r(40),\n",
    "                #markeredgecolor=markeredgecolors[(i-2) // 3],\n",
    "                ls='-', lw=1., elinewidth=0.5, capsize=2., capthick=1.)\n",
    "    #ax.errorbar(cutoffs, Nb_vals[3], yerr=Nb_errs[3],\n",
    "    #            label=Nb_labels['fig_labels'][3], \n",
    "    #            #marker=markers[(i-2) // 3],\n",
    "    #            marker=markers[0],\n",
    "    #            markersize=3, fillstyle='none',\n",
    "    #            color=cm.tab20c(3 + cc[2]),\n",
    "    #            #color=colors[(i-2) // 3], \n",
    "    #            #color=cm.tab20c(2 + cc[2]),\n",
    "    #            #color=cm.coolwarm_r(70),\n",
    "    #            #markeredgecolor=cm.coolwarm_r(60),\n",
    "    #            #markeredgecolor=markeredgecolors[(i-2) // 3],\n",
    "    #            ls='-', lw=1., elinewidth=0.5, capsize=2., capthick=1.)\n",
    "    leg = ax.legend(loc='best', markerscale=1., fontsize=12)\n",
    "    ax.set_xlabel(Nb_labels['x_label'], fontsize=16)\n",
    "    ax.set_ylabel(Nb_labels['y_label'], fontsize=16)\n",
    "    Nb_avg_plot_num = get_plot_num(Nb_avg_plot_dir)\n",
    "    Nb_avg_plot_file = (Nb_avg_plot_dir \n",
    "                        + f'Nb_avg_vs_cutoff_{Nb_avg_plot_num}.png')\n",
    "    fig.savefig(Nb_avg_plot_file, dpi=400, bbox_inches='tight')\n",
    "    plt.show()\n",
    "\n",
    "    #fig.savefig(Nb_avg_plot_file, dpi=400, bbox_inches='tight')"
   ]
  },
  {
   "cell_type": "code",
   "execution_count": 20,
   "metadata": {
    "ExecuteTime": {
     "end_time": "2018-05-23T09:33:19.087298Z",
     "start_time": "2018-05-23T09:33:19.005654Z"
    }
   },
   "outputs": [
    {
     "ename": "NameError",
     "evalue": "name 'bond_stats0_blocked' is not defined",
     "output_type": "error",
     "traceback": [
      "\u001b[0;31m---------------------------------------------------------------------------\u001b[0m",
      "\u001b[0;31mNameError\u001b[0m                                 Traceback (most recent call last)",
      "\u001b[0;32m<ipython-input-20-2c5c207f83b9>\u001b[0m in \u001b[0;36m<module>\u001b[0;34m()\u001b[0m\n\u001b[1;32m      2\u001b[0m bond_stats_avg_blocked = ((bond_stats0_blocked \n\u001b[1;32m      3\u001b[0m                           \u001b[0;34m+\u001b[0m \u001b[0mbond_stats1_blocked\u001b[0m\u001b[0;34m\u001b[0m\u001b[0m\n\u001b[0;32m----> 4\u001b[0;31m                           + bond_stats2_blocked) / 3) / (32 * 32)\n\u001b[0m\u001b[1;32m      5\u001b[0m bond_stats_avg_blocked1 = ((bond_stats0_blocked1 \n\u001b[1;32m      6\u001b[0m                            \u001b[0;34m+\u001b[0m \u001b[0mbond_stats1_blocked1\u001b[0m\u001b[0;34m\u001b[0m\u001b[0m\n",
      "\u001b[0;31mNameError\u001b[0m: name 'bond_stats0_blocked' is not defined"
     ]
    }
   ],
   "source": [
    "bond_stats_avg = ((bond_stats0 + bond_stats1 + bond_stats2) / 3) / (64 * 64)\n",
    "bond_stats_avg_blocked = ((bond_stats0_blocked \n",
    "                          + bond_stats1_blocked \n",
    "                          + bond_stats2_blocked) / 3) / (32 * 32)\n",
    "bond_stats_avg_blocked1 = ((bond_stats0_blocked1 \n",
    "                           + bond_stats1_blocked1 \n",
    "                           + bond_stats2_blocked1) / 3) / (16 * 16)\n",
    "\n",
    "fig, ax = plt.subplots()\n",
    "ax.errorbar(cutoffs, bond_stats_avg[:,0], yerr=bond_stats_avg[:,1],\n",
    "            label='Avg of all batches', marker=markers[0], markersize=3,\n",
    "            fillstyle='none', color=cm.tab20c(0 + cc[0]), ls='-', lw=1.,\n",
    "            elinewidth=0.5, capsize=2., capthick=1.)\n",
    "ax.errorbar(cutoffs, bond_stats_avg_blocked[:,0], \n",
    "            yerr=bond_stats_avg_blocked[:,1],\n",
    "            label='Block step 1', marker=markers[0], markersize=3,\n",
    "            fillstyle='none', color=cm.tab20c(1 + cc[0]), ls='-', lw=1.,\n",
    "            elinewidth=0.5, capsize=2., capthick=1.)\n",
    "ax.errorbar(cutoffs, bond_stats_avg_blocked1[:,0], \n",
    "            yerr=bond_stats_avg_blocked1[:,1],\n",
    "            label='Block step 1', marker=markers[0], markersize=3,\n",
    "            fillstyle='none', color=cm.tab20c(2 + cc[0]), ls='-', lw=1.,\n",
    "            elinewidth=0.5, capsize=2., capthick=1.)\n",
    "leg = ax.legend(loc='best', markerscale=1, fontsize=12)\n",
    "ax.set_xlabel(Nb_labels['x_label'], fontsize=16)\n",
    "ax.set_ylabel(Nb_labels['y_label'], fontsize=16)\n",
    "Nb_avg_plot_num = get_plot_num(Nb_avg_plot_dir)\n",
    "Nb_avg_plot_file = (Nb_avg_plot_dir \n",
    "                    + f'Nb_avg_vs_cutoff_averaged_{Nb_avg_plot_num}.png')\n",
    "fig.savefig(Nb_avg_plot_file, dpi=400, bbox_inches='tight')\n",
    "plt.show()"
   ]
  },
  {
   "cell_type": "markdown",
   "metadata": {},
   "source": [
    "### $\\langle \\Delta_{N_b}^2\\rangle$ vs. cutoff"
   ]
  },
  {
   "cell_type": "code",
   "execution_count": null,
   "metadata": {
    "ExecuteTime": {
     "end_time": "2018-05-17T17:24:13.723009Z",
     "start_time": "2018-05-17T17:24:13.702824Z"
    }
   },
   "outputs": [],
   "source": []
  },
  {
   "cell_type": "code",
   "execution_count": null,
   "metadata": {
    "ExecuteTime": {
     "end_time": "2018-05-23T09:33:19.088712Z",
     "start_time": "2018-05-23T09:17:09.625Z"
    },
    "scrolled": false
   },
   "outputs": [],
   "source": [
    "#bond_stats0 = np.array(bond_stats0)\n",
    "#bond_stats0_blocked = np.array(bond_stats0_blocked)\n",
    "\n",
    "#markers = ['s', 'H', 'd', 'v', 'p', 'P']\n",
    "#colors = ['#2A9Df8', '#FF920B', '#65e41d', '#be67ff', '#ff7e79', '#959595']\n",
    "#markeredgecolors = ['#0256a3', '#ed4c18',  '#00B000', '#6633cc',\n",
    "#                    '#ee2324','#1c2022']\n",
    "bond_stats0_blocked1 = np.array(bond_stats0_blocked1)\n",
    "bond_stats1_blocked1 = np.array(bond_stats1_blocked1)\n",
    "bond_stats2_blocked1 = np.array(bond_stats2_blocked1)\n",
    "volume_arr = np.array([64*64, 32*32, 16*16], dtype=np.float64)\n",
    "volume_scale = 2\n",
    "volume_arr *= volume_scale\n",
    "\n",
    "\n",
    "delta_Nb_vals = np.array([bond_stats0[:, 2] / volume_arr[0], \n",
    "                          bond_stats0_blocked0[:, 2] / volume_arr[1],\n",
    "                          bond_stats0_blocked1[:, 2] / volume_arr[2],\n",
    "                          #bond_stats0_blocked2[:, 2] / (8 * 8)])\n",
    "                          bond_stats1[:, 2] / volume_arr[0], \n",
    "                          bond_stats1_blocked0[:, 2] / volume_arr[1],\n",
    "                          bond_stats1_blocked1[:, 2] / volume_arr[2],\n",
    "                          #bond_stats1_blocked2[:, 2] / (8 * 8),\n",
    "                          bond_stats2[:, 2] /volume_arr[0], \n",
    "                          bond_stats2_blocked0[:, 2] /volume_arr[1],\n",
    "                          bond_stats2_blocked1[:, 2] / volume_arr[2]])\n",
    "                          #bond_stats2_blocked2[:, 2] / (8 * 8)])\n",
    "delta_Nb_errs = np.array([bond_stats0[:, 3] / volume_arr[0],\n",
    "                          bond_stats0_blocked0[:, 3] / volume_arr[1],\n",
    "                          bond_stats0_blocked1[:, 3] / volume_arr[2],\n",
    "                          #bond_stats0_blocked2[:, 3] / (8 * 8)])\n",
    "                          bond_stats1[:, 3] / volume_arr[0],\n",
    "                          bond_stats1_blocked0[:, 3] / volume_arr[1],\n",
    "                          bond_stats1_blocked1[:, 3] / volume_arr[2],\n",
    "                          #bond_stats1_blocked2[:, 3] / (8 * 8),\n",
    "                          bond_stats2[:, 3] / volume_arr[0],\n",
    "                          bond_stats2_blocked0[:, 3] / volume_arr[1],\n",
    "                          bond_stats2_blocked1[:, 3] / volume_arr[2]])\n",
    "                          #bond_stats2_blocked2[:, 3] / (8 * 8)])\n",
    "delta_Nb_xlabel = \"cutoff\"\n",
    "delta_Nb_ylabel = r\"$\\langle \\Delta_{N_b}^2\\rangle/ V_{eff} ^ {2}$\" # DON'T FORGET TO CHANGE\n",
    "delta_Nb_values = {'x': np.array(cutoffs), 'y': Nb_vals[0], 'y_err': Nb_errs[0]}\n",
    "delta_Nb_labels = {'fig_labels': ['Batch 1', \n",
    "                                  'Block step: 1', 'Block step: 2', #'Block step: 3']\n",
    "                                  'Batch 2', \n",
    "                                  'Block step: 1', 'Block step: 2', #'Block step 3',\n",
    "                                  'Batch 3', \n",
    "                                  'Block step: 1', 'Block step: 2'], #'Block step 3'],\n",
    "                   'x_label': delta_Nb_xlabel, 'y_label': delta_Nb_ylabel}\n",
    "limits = {'x_lim': (min(cutoffs) - 0.02, max(cutoffs) + 0.02)}\n",
    "#delta_Nb_plot_dir = './plots/delta_Nb/'\n",
    "#delta_Nb_plot_num = get_plot_num(delta_Nb_plot_dir)\n",
    "#delta_Nb_plot_file = (delta_Nb_plot_dir \n",
    "#                    + f'delta_Nb_vs_cutoff_{delta_Nb_plot_num}.png')\n",
    "#Nb_fig, Nb_ax = errorbar_plot(Nb_values, Nb_labels, Nb_avg_plot_file, \n",
    "#                              limits, markersize=3.5)\n",
    "\n",
    "                          \n",
    "cc = [0, 4, 8, 12]\n",
    "for (idx, i) in enumerate(range(2, len(delta_Nb_vals), 3)):\n",
    "    fig, ax = plt.subplots()\n",
    "    ax.errorbar(cutoffs, delta_Nb_vals[i-2], yerr=delta_Nb_errs[i-2],\n",
    "                label=delta_Nb_labels['fig_labels'][i-2], \n",
    "                marker=markers[(i-2)//3],\n",
    "                markersize=3, fillstyle='none',\n",
    "                color=cm.tab20c(0 + cc[(i-2)//3]),\n",
    "                #color=colors[i-1], \n",
    "                #markeredgecolor=markeredgecolors[i-1],\n",
    "                ls='-', lw=1., elinewidth=0.5, capsize=2., capthick=1.)\n",
    "    ax.errorbar(cutoffs, delta_Nb_vals[i-1], yerr=delta_Nb_errs[i-1],\n",
    "                label=delta_Nb_labels['fig_labels'][i-1], \n",
    "                marker=markers[(i-2)//3],\n",
    "                markersize=3, fillstyle='none',\n",
    "                color=cm.tab20c(1 + cc[(i-2)//3]),\n",
    "                #color=colors[i-1], \n",
    "                #markeredgecolor=markeredgecolors[i-1],\n",
    "                ls='-', lw=1., elinewidth=0.5, capsize=2., capthick=1.)\n",
    "    ax.errorbar(cutoffs, delta_Nb_vals[i], yerr=delta_Nb_errs[i],\n",
    "                label=delta_Nb_labels['fig_labels'][i], \n",
    "                marker=markers[(i-2)//3],\n",
    "                markersize=3, fillstyle='none',\n",
    "                color=cm.tab20c(2 + cc[(i-2)//3]),\n",
    "                #color=colors[i-1], markeredgecolor=markeredgecolors[i-1],\n",
    "                ls='-', lw=1., elinewidth=0.5, capsize=2., capthick=1.)\n",
    "    #ax.errorbar(cutoffs, delta_Nb_vals[3], yerr=delta_Nb_errs[3],\n",
    "    #            label=Nb_labels['fig_labels'][3], \n",
    "    #            marker=markers[0],\n",
    "    #            markersize=3, fillstyle='none',\n",
    "    #            color=cm.tab20c(3 + cc[2]),\n",
    "    #            #color=colors[i-1], markeredgecolor=markeredgecolors[i-1],\n",
    "    #            ls='-', lw=1., elinewidth=1., capsize=2., capthick=2.)\n",
    "    leg = ax.legend(loc='best', markerscale=1, fontsize=12)\n",
    "    ax.set_xlabel(delta_Nb_labels['x_label'], fontsize=16)\n",
    "    ax.set_ylabel(delta_Nb_labels['y_label'], fontsize=16)\n",
    "    delta_Nb_plot_num = get_plot_num(delta_Nb_plot_dir)\n",
    "    delta_Nb_plot_file = (delta_Nb_plot_dir \n",
    "                        + f'delta_Nb_vs_cutoff_{delta_Nb_plot_num}.png')\n",
    "    fig.savefig(delta_Nb_plot_file, dpi=400, bbox_inches='tight')\n",
    "    plt.show()\n",
    "    #fig.savefig(Nb_avg_plot_file, dpi=400, bbox_inches='tight')"
   ]
  },
  {
   "cell_type": "code",
   "execution_count": 184,
   "metadata": {
    "ExecuteTime": {
     "end_time": "2018-05-17T17:36:55.606794Z",
     "start_time": "2018-05-17T17:36:53.436590Z"
    },
    "scrolled": false
   },
   "outputs": [
    {
     "data": {
      "text/plain": [
       "<Container object of 3 artists>"
      ]
     },
     "execution_count": 184,
     "metadata": {},
     "output_type": "execute_result"
    },
    {
     "data": {
      "text/plain": [
       "<Container object of 3 artists>"
      ]
     },
     "execution_count": 184,
     "metadata": {},
     "output_type": "execute_result"
    },
    {
     "data": {
      "text/plain": [
       "<Container object of 3 artists>"
      ]
     },
     "execution_count": 184,
     "metadata": {},
     "output_type": "execute_result"
    },
    {
     "data": {
      "text/plain": [
       "Text(0.5,0,'cutoff')"
      ]
     },
     "execution_count": 184,
     "metadata": {},
     "output_type": "execute_result"
    },
    {
     "data": {
      "text/plain": [
       "Text(0,0.5,'$\\\\langle \\\\Delta_{N_b}^2\\\\rangle/ V_{eff}$')"
      ]
     },
     "execution_count": 184,
     "metadata": {},
     "output_type": "execute_result"
    },
    {
     "data": {
      "image/png": "[encoded data removed]",
      "text/plain": [
       "<matplotlib.figure.Figure at 0x117b5f9b0>"
      ]
     },
     "metadata": {},
     "output_type": "display_data"
    }
   ],
   "source": [
    "fig, ax = plt.subplots()\n",
    "ax.errorbar(cutoffs, bond_stats_avg[:,2], yerr=bond_stats_avg[:,3],\n",
    "            label='Avg of all batches', marker=markers[0], markersize=3,\n",
    "            fillstyle='none', color=cm.tab20c(0 + cc[0]), ls='-', lw=1.,\n",
    "            elinewidth=0.5, capsize=2., capthick=1.)\n",
    "ax.errorbar(cutoffs, bond_stats_avg_blocked[:,2], \n",
    "            yerr=bond_stats_avg_blocked[:,3],\n",
    "            label='Block step 1', marker=markers[0], markersize=3,\n",
    "            fillstyle='none', color=cm.tab20c(1 + cc[0]), ls='-', lw=1.,\n",
    "            elinewidth=0.5, capsize=2., capthick=1.)\n",
    "ax.errorbar(cutoffs, bond_stats_avg_blocked1[:,2], \n",
    "            yerr=bond_stats_avg_blocked1[:,3],\n",
    "            label='Block step 1', marker=markers[0], markersize=3,\n",
    "            fillstyle='none', color=cm.tab20c(2 + cc[0]), ls='-', lw=1.,\n",
    "            elinewidth=0.5, capsize=2., capthick=1.)\n",
    "leg = ax.legend(loc='best', markerscale=1, fontsize=12)\n",
    "ax.set_xlabel(delta_Nb_labels['x_label'], fontsize=16)\n",
    "ax.set_ylabel(delta_Nb_labels['y_label'], fontsize=16)\n",
    "delta_Nb_plot_num = get_plot_num(delta_Nb_plot_dir)\n",
    "delta_Nb_plot_file = (delta_Nb_plot_dir \n",
    "                    + f'delta_Nb_vs_cutoff_avg_{delta_Nb_plot_num}.png')\n",
    "fig.savefig(delta_Nb_plot_file, dpi=400, bbox_inches='tight')\n",
    "plt.show()"
   ]
  },
  {
   "cell_type": "code",
   "execution_count": null,
   "metadata": {},
   "outputs": [],
   "source": []
  }
 ],
 "metadata": {
  "hide_input": false,
  "kernelspec": {
   "display_name": "Python 3",
   "language": "python",
   "name": "python3"
  },
  "language_info": {
   "codemirror_mode": {
    "name": "ipython",
    "version": 3
   },
   "file_extension": ".py",
   "mimetype": "text/x-python",
   "name": "python",
   "nbconvert_exporter": "python",
   "pygments_lexer": "ipython3",
   "version": "3.6.5"
  },
  "latex_envs": {
   "LaTeX_envs_menu_present": true,
   "bibliofile": "biblio.bib",
   "cite_by": "apalike",
   "current_citInitial": 1,
   "eqLabelWithNumbers": true,
   "eqNumInitial": 1,
   "labels_anchors": false,
   "latex_user_defs": false,
   "report_style_numbering": false,
   "user_envs_cfg": false
  }
 },
 "nbformat": 4,
 "nbformat_minor": 2
}
