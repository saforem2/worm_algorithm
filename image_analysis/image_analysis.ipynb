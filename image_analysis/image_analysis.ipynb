{
 "cells": [
  {
   "cell_type": "markdown",
   "metadata": {},
   "source": [
    "#  Image Analysis"
   ]
  },
  {
   "cell_type": "markdown",
   "metadata": {},
   "source": [
    "## Imports"
   ]
  },
  {
   "cell_type": "code",
   "execution_count": 215,
   "metadata": {
    "ExecuteTime": {
     "end_time": "2018-05-16T23:34:29.389641Z",
     "start_time": "2018-05-16T23:34:29.321561Z"
    }
   },
   "outputs": [],
   "source": [
    "import numpy as np\n",
    "import pandas as pd\n",
    "import matplotlib.pyplot as plt\n",
    "from matplotlib import cm\n",
    "from scipy.misc import bytescale, toimage\n",
    "import sys\n",
    "import os\n",
    "#import gzip\n",
    "#from PIL import Image as pilImage\n",
    "\n",
    "from image import Image, show\n",
    "#from utils import unpickle, reshape_cifar10_image, process_cifar10_image\n",
    "from utils.utils import unpickle, reshape_cifar10_image, process_cifar10_image\n",
    "from utils.utils import block_resampling, jackknife_err, get_plot_num\n",
    "from utils.count_bonds import CountBonds\n",
    "from utils.block_images import block_image\n",
    "from utils.plot_helper import errorbar_plot\n",
    "\n",
    "markers = ['s', 'H', 'd', 'v', 'p', 'P']\n",
    "colors = ['#2A9Df8', '#FF920B', '#65e41d', '#be67ff', '#ff7e79', '#959595']\n",
    "markeredgecolors = ['#0256a3', '#ed4c18',  '#00B000', '#6633cc',\n",
    "                    '#ee2324','#1c2022']\n",
    "\n",
    "%matplotlib inline"
   ]
  },
  {
   "cell_type": "code",
   "execution_count": 278,
   "metadata": {
    "ExecuteTime": {
     "end_time": "2018-05-17T03:22:14.512458Z",
     "start_time": "2018-05-17T03:22:14.464357Z"
    }
   },
   "outputs": [
    {
     "data": {
      "text/plain": [
       "(0.050382999999999997, 0.029803, 0.52797499999999997, 1.0)"
      ]
     },
     "execution_count": 278,
     "metadata": {},
     "output_type": "execute_result"
    }
   ],
   "source": [
    "cm.plasma(0)"
   ]
  },
  {
   "cell_type": "markdown",
   "metadata": {
    "heading_collapsed": true
   },
   "source": [
    "## Download CIFAR-10 dataset and extract into './cifar10_data/' directory"
   ]
  },
  {
   "cell_type": "code",
   "execution_count": 2,
   "metadata": {
    "ExecuteTime": {
     "end_time": "2018-05-14T00:43:06.481709Z",
     "start_time": "2018-05-14T00:42:22.187366Z"
    },
    "collapsed": true,
    "hidden": true
   },
   "outputs": [
    {
     "name": "stdout",
     "output_type": "stream",
     "text": [
      "  % Total    % Received % Xferd  Average Speed   Time    Time     Time  Current\n",
      "                                 Dload  Upload   Total   Spent    Left  Speed\n",
      "100  162M  100  162M    0     0  3900k      0  0:00:42  0:00:42 --:--:-- 2420kM    0     0  3955k      0  0:00:42  0:00:18  0:00:24 3382kM    0     0  4195k      0  0:00:39  0:00:26  0:00:13 5285k  0     0  4143k      0  0:00:40  0:00:28  0:00:12 4105k3M    0     0  4135k      0  0:00:40  0:00:30  0:00:10 3556k\n",
      "x cifar-10-batches-py/\n",
      "x cifar-10-batches-py/data_batch_4\n",
      "x cifar-10-batches-py/readme.html\n",
      "x cifar-10-batches-py/test_batch\n",
      "x cifar-10-batches-py/data_batch_3\n",
      "x cifar-10-batches-py/batches.meta\n",
      "x cifar-10-batches-py/data_batch_2\n",
      "x cifar-10-batches-py/data_batch_5\n",
      "x cifar-10-batches-py/data_batch_1\n"
     ]
    }
   ],
   "source": [
    "# download cifar-10-data and extract into './cifar10_data/' directory\n",
    "! mkdir cifar10_data \n",
    "! curl -O https://www.cs.toronto.edu/~kriz/cifar-10-python.tar.gz\n",
    "! tar -xvf cifar-10-python.tar.gz -C ./cifar10_data"
   ]
  },
  {
   "cell_type": "markdown",
   "metadata": {},
   "source": [
    "## Testing with CIFAR-10"
   ]
  },
  {
   "cell_type": "markdown",
   "metadata": {
    "heading_collapsed": true
   },
   "source": [
    "### Define relevant directories, load first batch of data "
   ]
  },
  {
   "cell_type": "code",
   "execution_count": 2,
   "metadata": {
    "ExecuteTime": {
     "end_time": "2018-05-16T18:46:31.076345Z",
     "start_time": "2018-05-16T18:46:30.975107Z"
    },
    "hidden": true
   },
   "outputs": [],
   "source": [
    "cifar10_data_prefix = './data/cifar10_data/cifar-10-batches-py/'\n",
    "cifar10_data_batch1_file = cifar10_data_prefix + 'data_batch_1'\n",
    "cifar10_data_batch2_file = cifar10_data_prefix + 'data_batch_2'\n",
    "cifar10_data_batch3_file = cifar10_data_prefix + 'data_batch_3'\n",
    "cifar10_data_batch4_file = cifar10_data_prefix + 'data_batch_4'\n",
    "cifar10_data_batch5_file = cifar10_data_prefix + 'data_batch_5'\n",
    "\n",
    "cifar10_batch1 = unpickle(cifar10_data_batch1_file)"
   ]
  },
  {
   "cell_type": "code",
   "execution_count": 3,
   "metadata": {
    "ExecuteTime": {
     "end_time": "2018-05-16T18:46:32.262812Z",
     "start_time": "2018-05-16T18:46:32.236709Z"
    },
    "hidden": true
   },
   "outputs": [
    {
     "data": {
      "text/plain": [
       "dict_keys([b'batch_label', b'labels', b'data', b'filenames'])"
      ]
     },
     "execution_count": 3,
     "metadata": {},
     "output_type": "execute_result"
    }
   ],
   "source": [
    "cifar10_batch1.keys()"
   ]
  },
  {
   "cell_type": "markdown",
   "metadata": {
    "heading_collapsed": true
   },
   "source": [
    "### Examples"
   ]
  },
  {
   "cell_type": "code",
   "execution_count": 216,
   "metadata": {
    "ExecuteTime": {
     "end_time": "2018-05-16T23:35:37.795497Z",
     "start_time": "2018-05-16T23:35:36.370441Z"
    },
    "collapsed": true,
    "hidden": true
   },
   "outputs": [
    {
     "data": {
      "text/plain": [
       "(<matplotlib.figure.Figure at 0x12775dcc0>,\n",
       " <matplotlib.axes._subplots.AxesSubplot at 0x12776aa20>)"
      ]
     },
     "execution_count": 216,
     "metadata": {},
     "output_type": "execute_result"
    },
    {
     "data": {
      "text/plain": [
       "(<matplotlib.figure.Figure at 0x12775df28>,\n",
       " <matplotlib.axes._subplots.AxesSubplot at 0x11e344940>)"
      ]
     },
     "execution_count": 216,
     "metadata": {},
     "output_type": "execute_result"
    },
    {
     "data": {
      "text/plain": [
       "(<matplotlib.figure.Figure at 0x11e33e470>,\n",
       " <matplotlib.axes._subplots.AxesSubplot at 0x127a8d668>)"
      ]
     },
     "execution_count": 216,
     "metadata": {},
     "output_type": "execute_result"
    },
    {
     "data": {
      "image/png": "[encoded data removed]",
      "text/plain": [
       "<matplotlib.figure.Figure at 0x12775dcc0>"
      ]
     },
     "metadata": {},
     "output_type": "display_data"
    },
    {
     "data": {
      "image/png": "[encoded data removed]",
      "text/plain": [
       "<matplotlib.figure.Figure at 0x12775df28>"
      ]
     },
     "metadata": {},
     "output_type": "display_data"
    },
    {
     "data": {
      "image/png": "[encoded data removed]",
      "text/plain": [
       "<matplotlib.figure.Figure at 0x11e33e470>"
      ]
     },
     "metadata": {},
     "output_type": "display_data"
    }
   ],
   "source": [
    "# extract first three images from dataset and plot, just for reference\n",
    "image0 = process_cifar10_image(cifar10_batch1[b'data'][0])\n",
    "image1 = process_cifar10_image(cifar10_batch1[b'data'][1])\n",
    "image2 = process_cifar10_image(cifar10_batch1[b'data'][2])\n",
    "\n",
    "show(image0)\n",
    "show(image1)\n",
    "show(image2)"
   ]
  },
  {
   "cell_type": "code",
   "execution_count": null,
   "metadata": {
    "ExecuteTime": {
     "end_time": "2018-05-15T10:58:32.925158Z",
     "start_time": "2018-05-15T10:58:32.512575Z"
    },
    "hidden": true
   },
   "outputs": [],
   "source": [
    "# extract B/W boundaries using cutoff = 0.5 and show resulting image\n",
    "img0 = Image(image0)\n",
    "boundary_img0 = img0.get_boundaries(0.5)\n",
    "show(boundary_img0)"
   ]
  },
  {
   "cell_type": "markdown",
   "metadata": {
    "heading_collapsed": true,
    "hidden": true
   },
   "source": [
    "#### Iteratively block sample image (example)"
   ]
  },
  {
   "cell_type": "code",
   "execution_count": 21,
   "metadata": {
    "ExecuteTime": {
     "end_time": "2018-05-15T11:05:36.842408Z",
     "start_time": "2018-05-15T11:05:36.815023Z"
    },
    "hidden": true
   },
   "outputs": [],
   "source": [
    "# iteratively block image:\n",
    "#    (64, 64) --> (32, 32) --> (16,16) --> (8, 8) --> (4, 4)\n",
    "blocked1_boundary_img0 = block_image(boundary_img0)\n",
    "blocked2_boundary_img0 = block_image(blocked1_boundary_img0)\n",
    "blocked3_boundary_img0 = block_image(blocked2_boundary_img0)\n",
    "blocked4_boundary_img0 = block_image(blocked3_boundary_img0)"
   ]
  },
  {
   "cell_type": "code",
   "execution_count": 22,
   "metadata": {
    "ExecuteTime": {
     "end_time": "2018-05-15T11:05:39.545784Z",
     "start_time": "2018-05-15T11:05:37.983172Z"
    },
    "hidden": true,
    "scrolled": true
   },
   "outputs": [
    {
     "data": {
      "text/plain": [
       "(<matplotlib.figure.Figure at 0x11109bcf8>,\n",
       " <matplotlib.axes._subplots.AxesSubplot at 0x1167ddb38>)"
      ]
     },
     "execution_count": 22,
     "metadata": {},
     "output_type": "execute_result"
    },
    {
     "data": {
      "text/plain": [
       "(<matplotlib.figure.Figure at 0x11109b9e8>,\n",
       " <matplotlib.axes._subplots.AxesSubplot at 0x1169414e0>)"
      ]
     },
     "execution_count": 22,
     "metadata": {},
     "output_type": "execute_result"
    },
    {
     "data": {
      "text/plain": [
       "(<matplotlib.figure.Figure at 0x1167b8710>,\n",
       " <matplotlib.axes._subplots.AxesSubplot at 0x11136b6d8>)"
      ]
     },
     "execution_count": 22,
     "metadata": {},
     "output_type": "execute_result"
    },
    {
     "data": {
      "text/plain": [
       "(<matplotlib.figure.Figure at 0x1168d08d0>,\n",
       " <matplotlib.axes._subplots.AxesSubplot at 0x1166f70b8>)"
      ]
     },
     "execution_count": 22,
     "metadata": {},
     "output_type": "execute_result"
    },
    {
     "data": {
      "text/plain": [
       "(<matplotlib.figure.Figure at 0x116700d30>,\n",
       " <matplotlib.axes._subplots.AxesSubplot at 0x1166b5be0>)"
      ]
     },
     "execution_count": 22,
     "metadata": {},
     "output_type": "execute_result"
    },
    {
     "data": {
      "image/png": "[encoded data removed]",
      "text/plain": [
       "<matplotlib.figure.Figure at 0x11109bcf8>"
      ]
     },
     "metadata": {},
     "output_type": "display_data"
    },
    {
     "data": {
      "image/png": "[encoded data removed]",
      "text/plain": [
       "<matplotlib.figure.Figure at 0x11109b9e8>"
      ]
     },
     "metadata": {},
     "output_type": "display_data"
    },
    {
     "data": {
      "image/png": "[encoded data removed]",
      "text/plain": [
       "<matplotlib.figure.Figure at 0x1167b8710>"
      ]
     },
     "metadata": {},
     "output_type": "display_data"
    },
    {
     "data": {
      "image/png": "[encoded data removed]",
      "text/plain": [
       "<matplotlib.figure.Figure at 0x1168d08d0>"
      ]
     },
     "metadata": {},
     "output_type": "display_data"
    },
    {
     "data": {
      "image/png": "[encoded data removed]",
      "text/plain": [
       "<matplotlib.figure.Figure at 0x116700d30>"
      ]
     },
     "metadata": {},
     "output_type": "display_data"
    }
   ],
   "source": [
    "show(boundary_img0)\n",
    "show(blocked1_boundary_img0.reshape((32,32)))\n",
    "show(blocked2_boundary_img0.reshape((16,16)))\n",
    "show(blocked3_boundary_img0.reshape((8,8)))\n",
    "show(blocked4_boundary_img0.reshape((4,4)))"
   ]
  },
  {
   "cell_type": "markdown",
   "metadata": {},
   "source": [
    "### Shuffle data and load images for analysis"
   ]
  },
  {
   "cell_type": "code",
   "execution_count": 242,
   "metadata": {
    "ExecuteTime": {
     "end_time": "2018-05-17T02:13:27.537324Z",
     "start_time": "2018-05-17T02:13:27.293821Z"
    }
   },
   "outputs": [
    {
     "name": "stdout",
     "output_type": "stream",
     "text": [
      "(500, 32, 32)\n"
     ]
    }
   ],
   "source": [
    "# shuffle data\n",
    "np.random.shuffle(cifar10_batch1[b'data'])\n",
    "# select first num_sample_images from batch1 as sample data\n",
    "num_sample_images = 500\n",
    "cifar10_images0 = np.array([process_cifar10_image(img) for img in\n",
    "                            cifar10_batch1[b'data'][:num_sample_images]])\n",
    "#cifar10_images1 = np.array([process_cifar10_image(img) for img in\n",
    "#                            cifar10_batch1[b'data'][num_sample_images:2*num_sample_images]])\n",
    "#cifar10_images2 = np.array([process_cifar10_image(img) for img in\n",
    "#                            cifar10_batch1[b'data'][2*num_sample_images:3*num_sample_images]])\n",
    "print(cifar10_images0.shape)\n",
    "#print(cifar10_images1.shape)\n",
    "#print(cifar10_images2.shape)"
   ]
  },
  {
   "cell_type": "markdown",
   "metadata": {},
   "source": [
    "### Define cutoffs and obtain boundary images"
   ]
  },
  {
   "cell_type": "code",
   "execution_count": null,
   "metadata": {
    "collapsed": true
   },
   "outputs": [],
   "source": [
    "img0 = Image(cifar10_boundary_images0)"
   ]
  },
  {
   "cell_type": "code",
   "execution_count": 265,
   "metadata": {
    "ExecuteTime": {
     "end_time": "2018-05-17T02:37:09.615781Z",
     "start_time": "2018-05-17T02:33:34.044698Z"
    }
   },
   "outputs": [
    {
     "name": "stdout",
     "output_type": "stream",
     "text": [
      "(500, 39, 64, 64)\n"
     ]
    }
   ],
   "source": [
    "# create array of cutoffs for converting image to black/white pixels\n",
    "#cutoffs = np.arange(0.1, 1., 0.05)\n",
    "#cutoffs = [0.2, 0.3, 0.4]\n",
    "cutoffs = list(np.arange(0.2, 0.4, 0.05))\n",
    "cutoffs.extend(list(np.arange(0.4, 0.7, 0.01)))\n",
    "cutoffs.extend(list(np.arange(0.7, 0.9, 0.05)))\n",
    "#cutoffs.extend(list(np.array([0.8, 0.9, 1.0])))\n",
    "\n",
    "cifar10_boundary_images0 = []\n",
    "#cifar10_boundary_images1 = []\n",
    "#cifar10_boundary_images2 = []\n",
    "#zip_cifar_images = zip(cifar10_images0, cifar10_images1, cifar10_images2)\n",
    "#for (image0, image1, image2) in zip_cifar_images:\n",
    "for image in cifar10_images0:\n",
    "    img0 = Image(image)\n",
    "    #img1 = Image(image1)\n",
    "    #img2 = Image(image2)\n",
    "    # for each image, try different cutoff values and append resulting image\n",
    "    # to boundary_images array\n",
    "    boundary_images0 = np.array([img0.get_boundaries(cutoff) \n",
    "                                for cutoff in cutoffs])\n",
    "    #boundary_images1 = np.array([img1.get_boundaries(cutoff) \n",
    "    #                            for cutoff in cutoffs])\n",
    "    #boundary_images2 = np.array([img2.get_boundaries(cutoff) \n",
    "    #                            for cutoff in cutoffs])\n",
    "    # create array with the boundary_images obtained from each cutoff value\n",
    "    # to cifar10_boundary_images array, with one image per row\n",
    "    # i.e. cifar10_boundary_images will have shape:\n",
    "    #    [num_images, num_cutoffs, 32, 32] \n",
    "    cifar10_boundary_images0.append(np.array(boundary_images0))\n",
    "    #cifar10_boundary_images1.append(np.array(boundary_images1))\n",
    "    #cifar10_boundary_images2.append(np.array(boundary_images2))\n",
    "cifar10_boundary_images0 = np.array(cifar10_boundary_images0)\n",
    "#cifar10_boundary_images1 = np.array(cifar10_boundary_images1)\n",
    "#cifar10_boundary_images2 = np.array(cifar10_boundary_images2)\n",
    "print(cifar10_boundary_images0.shape)\n",
    "#print(cifar10_boundary_images1.shape)\n",
    "#print(cifar10_boundary_images2.shape)"
   ]
  },
  {
   "cell_type": "markdown",
   "metadata": {},
   "source": [
    "### Block boundary images $L = 64 \\rightarrow 32$"
   ]
  },
  {
   "cell_type": "code",
   "execution_count": 266,
   "metadata": {
    "ExecuteTime": {
     "end_time": "2018-05-17T02:37:23.050418Z",
     "start_time": "2018-05-17T02:37:09.618967Z"
    }
   },
   "outputs": [
    {
     "name": "stdout",
     "output_type": "stream",
     "text": [
      "(500, 39, 32, 32)\n"
     ]
    }
   ],
   "source": [
    "blocked_boundary_images0 = []\n",
    "#blocked_boundary_images1 = []\n",
    "#blocked_boundary_images2 = []\n",
    "#zip_bdy_images = zip(cifar10_boundary_images0, cifar10_boundary_images1,\n",
    "#                     cifar10_boundary_images2)\n",
    "#for (images0, images1, images2) in zip_bdy_images:\n",
    "for images in cifar10_boundary_images0:\n",
    "    boundary_images0 = []\n",
    "    #boundary_images1 = []\n",
    "    #boundary_images2 = []\n",
    "    original_size = images[0].shape[0]\n",
    "    new_size = original_size // 2\n",
    "    #zip_images = zip(images0, images1, images2)\n",
    "    #for (cutoff_image0, cutoff_image1, cutoff_image2) in zip_images:\n",
    "    for cutoff_image in images:\n",
    "        boundary_images0.append(block_image(cutoff_image).reshape(new_size,\n",
    "                                                                  new_size))\n",
    "        #boundary_images1.append(block_image(cutoff_image1).reshape(new_size,\n",
    "        #                                                           new_size))\n",
    "        #boundary_images2.append(block_image(cutoff_image2).reshape(new_size,\n",
    "        #                                                           new_size))\n",
    "    blocked_boundary_images0.append(np.array(boundary_images0))\n",
    "    #blocked_boundary_images1.append(np.array(boundary_images1))\n",
    "    #blocked_boundary_images2.append(np.array(boundary_images2))\n",
    "blocked_boundary_images0 = np.array(blocked_boundary_images0)\n",
    "#blocked_boundary_images1 = np.array(blocked_boundary_images1)\n",
    "#blocked_boundary_images2 = np.array(blocked_boundary_images2)\n",
    "print(blocked_boundary_images0.shape)\n",
    "#print(blocked_boundary_images1.shape)\n",
    "#print(blocked_boundary_images2.shape)"
   ]
  },
  {
   "cell_type": "markdown",
   "metadata": {},
   "source": [
    "### Block again! (using blocked images from above) $ L = 32 \\rightarrow 16$"
   ]
  },
  {
   "cell_type": "code",
   "execution_count": 267,
   "metadata": {
    "ExecuteTime": {
     "end_time": "2018-05-17T02:37:26.955298Z",
     "start_time": "2018-05-17T02:37:23.053389Z"
    }
   },
   "outputs": [
    {
     "name": "stdout",
     "output_type": "stream",
     "text": [
      "(500, 39, 16, 16)\n"
     ]
    }
   ],
   "source": [
    "blocked1_boundary_images0 = []\n",
    "#blocked1_boundary_images1 = []\n",
    "#blocked1_boundary_images2 = []\n",
    "#zip_bdy_images1 = zip(blocked_boundary_images0, blocked_boundary_images1,\n",
    "#                     blocked_boundary_images2)\n",
    "#for (images0, images1, images2) in zip_bdy_images1:\n",
    "for images in blocked_boundary_images0:\n",
    "    boundary_images0 = []\n",
    "    #boundary_images1 = []\n",
    "    #boundary_images2 = []\n",
    "    original_size = images[0].shape[0]\n",
    "    new_size = original_size // 2\n",
    "    #zip_images = zip(images0, images1, images2)\n",
    "    #for (cutoff_image0, cutoff_image1, cutoff_image2) in zip_images:\n",
    "    for cutoff_image in images:\n",
    "        boundary_images0.append(block_image(cutoff_image).reshape(new_size,\n",
    "                                                                  new_size))\n",
    "        #boundary_images1.append(block_image(cutoff_image1).reshape(new_size,\n",
    "        #                                                           new_size))\n",
    "        #boundary_images2.append(block_image(cutoff_image2).reshape(new_size,\n",
    "        #                                                           new_size))\n",
    "    blocked1_boundary_images0.append(np.array(boundary_images0))\n",
    "    #blocked1_boundary_images1.append(np.array(boundary_images1))\n",
    "    #blocked1_boundary_images2.append(np.array(boundary_images2))\n",
    "blocked1_boundary_images0 = np.array(blocked1_boundary_images0)\n",
    "#blocked1_boundary_images1 = np.array(blocked1_boundary_images1)\n",
    "#blocked1_boundary_images2 = np.array(blocked1_boundary_images2)\n",
    "print(blocked1_boundary_images0.shape)\n",
    "#print(blocked1_boundary_images1.shape)\n",
    "#print(blocked1_boundary_images2.shape)"
   ]
  },
  {
   "cell_type": "markdown",
   "metadata": {},
   "source": [
    "### And again! (using blocked images from above) $ L = 16 \\rightarrow 8$"
   ]
  },
  {
   "cell_type": "code",
   "execution_count": 268,
   "metadata": {
    "ExecuteTime": {
     "end_time": "2018-05-17T02:37:28.406038Z",
     "start_time": "2018-05-17T02:37:26.960106Z"
    }
   },
   "outputs": [
    {
     "name": "stdout",
     "output_type": "stream",
     "text": [
      "(500, 39, 8, 8)\n"
     ]
    }
   ],
   "source": [
    "blocked2_boundary_images0 = []\n",
    "#blocked2_boundary_images1 = []\n",
    "#blocked2_boundary_images2 = []\n",
    "#zip_bdy_images1 = zip(blocked_boundary_images0, blocked_boundary_images1,\n",
    "#                     blocked_boundary_images2)\n",
    "#for (images0, images1, images2) in zip_bdy_images1:\n",
    "for images in blocked1_boundary_images0:\n",
    "    boundary_images0 = []\n",
    "    #boundary_images1 = []\n",
    "    #boundary_images2 = []\n",
    "    original_size = images[0].shape[0]\n",
    "    new_size = original_size // 2\n",
    "    #zip_images = zip(images0, images1, images2)\n",
    "    #for (cutoff_image0, cutoff_image1, cutoff_image2) in zip_images:\n",
    "    for cutoff_image in images:\n",
    "        boundary_images0.append(block_image(cutoff_image).reshape(new_size,\n",
    "                                                                  new_size))\n",
    "        #boundary_images1.append(block_image(cutoff_image1).reshape(new_size,\n",
    "        #                                                           new_size))\n",
    "        #boundary_images2.append(block_image(cutoff_image2).reshape(new_size,\n",
    "        #                                                           new_size))\n",
    "    blocked2_boundary_images0.append(np.array(boundary_images0))\n",
    "    #blocked2_boundary_images1.append(np.array(boundary_images1))\n",
    "    #blocked2_boundary_images2.append(np.array(boundary_images2))\n",
    "blocked2_boundary_images0 = np.array(blocked2_boundary_images0)\n",
    "#blocked2_boundary_images1 = np.array(blocked2_boundary_images1)\n",
    "#blocked2_boundary_images2 = np.array(blocked2_boundary_images2)\n",
    "print(blocked2_boundary_images0.shape)\n",
    "#print(blocked2_boundary_images1.shape)\n",
    "#print(blocked2_boundary_images2.shape)"
   ]
  },
  {
   "cell_type": "markdown",
   "metadata": {},
   "source": [
    "### Run bond counter ($\\langle N_b\\rangle$, $\\langle \\Delta_{N_b}^2\\rangle$) on unblocked images: $L = 64$  "
   ]
  },
  {
   "cell_type": "code",
   "execution_count": 269,
   "metadata": {
    "ExecuteTime": {
     "end_time": "2018-05-17T02:43:15.135321Z",
     "start_time": "2018-05-17T02:37:28.408105Z"
    }
   },
   "outputs": [],
   "source": [
    "# swap first two axes so that each row corresponds \n",
    "# to a unique value of greyscale cutoff, across all images\n",
    "cifar10_boundary_imagesT0 = np.transpose(cifar10_boundary_images0, \n",
    "                                         (1, 0, 2, 3))\n",
    "#cifar10_boundary_imagesT1 = np.transpose(cifar10_boundary_images1, \n",
    "#                                         (1, 0, 2, 3))\n",
    "#cifar10_boundary_imagesT2 = np.transpose(cifar10_boundary_images2, \n",
    "                                         #(1, 0, 2, 3))\n",
    "\n",
    "bond_stats0 = []\n",
    "for cutoff_images in cifar10_boundary_imagesT0:\n",
    "    count_bonds0 = CountBonds(image_set=cutoff_images, num_blocks=20)\n",
    "    bond_stats0.append(count_bonds0.count_bonds())\n",
    "\n",
    "#bond_stats1 = []\n",
    "#for cutoff_images in cifar10_boundary_imagesT1:\n",
    "#    count_bonds1 = CountBonds(image_set=cutoff_images, num_blocks=10)\n",
    "#    bond_stats1.append(count_bonds1.count_bonds())\n",
    "\n",
    "#bond_stats2 = []\n",
    "#for cutoff_images in cifar10_boundary_imagesT2:\n",
    "#    count_bonds2 = CountBonds(image_set=cutoff_images, num_blocks=20)\n",
    "#    bond_stats2.append(count_bonds2.count_bonds())\n",
    "    \n",
    "bond_stats0 = np.array(bond_stats0)\n",
    "#bond_stats1 = np.array(bond_stats1)\n",
    "#bond_stats2 = np.array(bond_stats2)"
   ]
  },
  {
   "cell_type": "markdown",
   "metadata": {},
   "source": [
    "### Run bond counter ($\\langle N_b\\rangle$, $\\langle \\Delta_{N_b}^2\\rangle$) on blocked images: $L = 32$  "
   ]
  },
  {
   "cell_type": "code",
   "execution_count": 270,
   "metadata": {
    "ExecuteTime": {
     "end_time": "2018-05-17T02:44:48.415511Z",
     "start_time": "2018-05-17T02:43:15.137392Z"
    },
    "collapsed": true
   },
   "outputs": [],
   "source": [
    "# swap first two axes so that each row corresponds \n",
    "# to a unique value of greyscale cutoff, across all images\n",
    "blocked_boundary_imagesT0 = np.transpose(blocked_boundary_images0, \n",
    "                                         (1, 0, 2, 3))\n",
    "#blocked_boundary_imagesT1 = np.transpose(blocked_boundary_images1, \n",
    "#                                         (1, 0, 2, 3))\n",
    "#blocked_boundary_imagesT2 = np.transpose(blocked_boundary_images2, \n",
    "#                                         (1, 0, 2, 3))\n",
    "\n",
    "bond_stats0_blocked = []\n",
    "for cutoff_images in blocked_boundary_imagesT0:\n",
    "    count_bonds0_blocked = CountBonds(image_set=cutoff_images, num_blocks=20)\n",
    "    bond_stats0_blocked.append(count_bonds0_blocked.count_bonds())\n",
    "    \n",
    "#bond_stats1_blocked = []\n",
    "#for cutoff_images in blocked_boundary_imagesT1:\n",
    "#    count_bonds1_blocked = CountBonds(image_set=cutoff_images, num_blocks=10)\n",
    "#    bond_stats1_blocked.append(count_bonds1_blocked.count_bonds())\n",
    "    \n",
    "#bond_stats2_blocked = []\n",
    "#for cutoff_images in blocked_boundary_imagesT2:\n",
    "#    count_bonds2_blocked = CountBonds(image_set=cutoff_images, num_blocks=10)\n",
    "#    bond_stats2_blocked.append(count_bonds2_blocked.count_bonds())\n",
    "    \n",
    "bond_stats0_blocked = np.array(bond_stats0_blocked)\n",
    "#bond_stats1_blocked = np.array(bond_stats1_blocked)\n",
    "#bond_stats2_blocked = np.array(bond_stats2_blocked)"
   ]
  },
  {
   "cell_type": "markdown",
   "metadata": {},
   "source": [
    "### Run bond counter ($\\langle N_b\\rangle$, $\\langle \\Delta_{N_b}^2\\rangle$) on twice blocked images: $L = 16$  "
   ]
  },
  {
   "cell_type": "code",
   "execution_count": 271,
   "metadata": {
    "ExecuteTime": {
     "end_time": "2018-05-17T02:45:17.322773Z",
     "start_time": "2018-05-17T02:44:48.417379Z"
    },
    "collapsed": true
   },
   "outputs": [],
   "source": [
    "# swap first two axes so that each row corresponds \n",
    "# to a unique value of greyscale cutoff, across all images\n",
    "blocked1_boundary_imagesT0 = np.transpose(blocked1_boundary_images0, \n",
    "                                          (1, 0, 2, 3))\n",
    "#blocked1_boundary_imagesT1 = np.transpose(blocked1_boundary_images1, \n",
    "#                                          (1, 0, 2, 3))\n",
    "#blocked1_boundary_imagesT2 = np.transpose(blocked1_boundary_images2, \n",
    "#                                         (1, 0, 2, 3))\n",
    "\n",
    "bond_stats0_blocked1 = []\n",
    "for cutoff_images in blocked1_boundary_imagesT0:\n",
    "    count_bonds0_blocked1 = CountBonds(image_set=cutoff_images, num_blocks=20)\n",
    "    bond_stats0_blocked1.append(count_bonds0_blocked1.count_bonds())\n",
    "    \n",
    "#bond_stats1_blocked1 = []\n",
    "#for cutoff_images in blocked1_boundary_imagesT1:\n",
    "#    count_bonds1_blocked1 = CountBonds(image_set=cutoff_images, num_blocks=10)\n",
    "#    bond_stats1_blocked1.append(count_bonds1_blocked1.count_bonds())\n",
    "    \n",
    "#bond_stats2_blocked1 = []\n",
    "#for cutoff_images in blocked_boundary_imagesT2:\n",
    "#    count_bonds2_blocked1 = CountBonds(image_set=cutoff_images, num_blocks=10)\n",
    "#    bond_stats2_blocked1.append(count_bonds2_blocked1.count_bonds())\n",
    "    \n",
    "bond_stats0_blocked1 = np.array(bond_stats0_blocked1)\n",
    "#bond_stats1_blocked1 = np.array(bond_stats1_blocked1)\n",
    "#bond_stats2_blocked1 = np.array(bond_stats2_blocked1)"
   ]
  },
  {
   "cell_type": "markdown",
   "metadata": {},
   "source": [
    "### Run bond counter ($\\langle N_b\\rangle$, $\\langle \\Delta_{N_b}^2\\rangle$) on thrice blocked images: $L = 8$  "
   ]
  },
  {
   "cell_type": "code",
   "execution_count": 272,
   "metadata": {
    "ExecuteTime": {
     "end_time": "2018-05-17T02:45:28.534869Z",
     "start_time": "2018-05-17T02:45:17.325025Z"
    },
    "collapsed": true
   },
   "outputs": [],
   "source": [
    "# swap first two axes so that each row corresponds \n",
    "# to a unique value of greyscale cutoff, across all images\n",
    "blocked2_boundary_imagesT0 = np.transpose(blocked2_boundary_images0, \n",
    "                                          (1, 0, 2, 3))\n",
    "#blocked2_boundary_imagesT1 = np.transpose(blocked2_boundary_images1, \n",
    "#                                          (1, 0, 2, 3))\n",
    "#blocked2_boundary_imagesT2 = np.transpose(blocked2_boundary_images2, \n",
    "#                                         (1, 0, 2, 3))\n",
    "\n",
    "bond_stats0_blocked2 = []\n",
    "for cutoff_images in blocked2_boundary_imagesT0:\n",
    "    count_bonds0_blocked2 = CountBonds(image_set=cutoff_images, num_blocks=20)\n",
    "    bond_stats0_blocked2.append(count_bonds0_blocked2.count_bonds())\n",
    "    \n",
    "#bond_stats1_blocked2 = []\n",
    "#for cutoff_images in blocked2_boundary_imagesT1:\n",
    "#    count_bonds1_blocked2 = CountBonds(image_set=cutoff_images, num_blocks=10)\n",
    "#    bond_stats1_blocked2.append(count_bonds1_blocked2.count_bonds())\n",
    "    \n",
    "#bond_stats2_blocked2 = []\n",
    "#for cutoff_images in blocked_boundary_imagesT2:\n",
    "#    count_bonds2_blocked2 = CountBonds(image_set=cutoff_images, num_blocks=10)\n",
    "#    bond_stats2_blocked2.append(count_bonds2_blocked2.count_bonds())\n",
    "    \n",
    "bond_stats0_blocked2 = np.array(bond_stats0_blocked2)\n",
    "#bond_stats1_blocked2 = np.array(bond_stats1_blocked2)\n",
    "#bond_stats2_blocked2 = np.array(bond_stats2_blocked2)"
   ]
  },
  {
   "cell_type": "markdown",
   "metadata": {},
   "source": [
    "## Plots"
   ]
  },
  {
   "cell_type": "markdown",
   "metadata": {},
   "source": [
    "### $\\langle N_b\\rangle$ vs. cutoff"
   ]
  },
  {
   "cell_type": "code",
   "execution_count": 307,
   "metadata": {
    "ExecuteTime": {
     "end_time": "2018-05-17T03:55:53.895628Z",
     "start_time": "2018-05-17T03:55:51.297400Z"
    },
    "scrolled": false
   },
   "outputs": [
    {
     "data": {
      "text/plain": [
       "<Container object of 3 artists>"
      ]
     },
     "execution_count": 307,
     "metadata": {},
     "output_type": "execute_result"
    },
    {
     "data": {
      "text/plain": [
       "<Container object of 3 artists>"
      ]
     },
     "execution_count": 307,
     "metadata": {},
     "output_type": "execute_result"
    },
    {
     "data": {
      "text/plain": [
       "<Container object of 3 artists>"
      ]
     },
     "execution_count": 307,
     "metadata": {},
     "output_type": "execute_result"
    },
    {
     "data": {
      "text/plain": [
       "<Container object of 3 artists>"
      ]
     },
     "execution_count": 307,
     "metadata": {},
     "output_type": "execute_result"
    },
    {
     "data": {
      "text/plain": [
       "Text(0.5,0,'cutoff')"
      ]
     },
     "execution_count": 307,
     "metadata": {},
     "output_type": "execute_result"
    },
    {
     "data": {
      "text/plain": [
       "Text(0,0.5,'$\\\\langle N_b\\\\rangle / V_{eff}$')"
      ]
     },
     "execution_count": 307,
     "metadata": {},
     "output_type": "execute_result"
    },
    {
     "data": {
      "image/png": "[encoded data removed]",
      "text/plain": [
       "<matplotlib.figure.Figure at 0x148483c88>"
      ]
     },
     "metadata": {},
     "output_type": "display_data"
    }
   ],
   "source": [
    "Nb_vals = np.array([bond_stats0[:, 0] / (64 * 64), \n",
    "                    bond_stats0_blocked[:, 0] / (32 * 32),\n",
    "                    bond_stats0_blocked1[:, 0] / (16 * 16),\n",
    "                    bond_stats0_blocked2[:, 0] / (8 * 8)])\n",
    "                    #bond_stats1[:, 0] / (64 * 64),\n",
    "                    #bond_stats1_blocked[:, 0] / (32 * 32),\n",
    "                    #bond_stats1_blocked1[:, 0] / (16 * 16),\n",
    "                    #bond_stats1_blocked2[:, 0] / (8 * 8),\n",
    "                    #bond_stats2[:, 0] / (64 * 64),\n",
    "                    #bond_stats2_blocked[:, 0] / (32 * 32),\n",
    "                    #bond_stats2_blocked1[:, 0] / (16 * 16),\n",
    "                    #bond_stats2_blocked2[:, 0] / (8 * 8)])\n",
    "Nb_errs = np.array([bond_stats0[:, 1] / (64 * 64),\n",
    "                    bond_stats0_blocked[:, 1] / (32 * 32),\n",
    "                    bond_stats0_blocked1[:, 1] / (16 * 16),\n",
    "                    bond_stats0_blocked2[:, 1] / (8 * 8)])\n",
    "                    #bond_stats1[:, 1] / (64 * 64),\n",
    "                    #bond_stats1_blocked[:, 1] / (32 * 32),\n",
    "                    #bond_stats1_blocked1[:, 1] / (16 * 16),\n",
    "                    #bond_stats1_blocked2[:, 1] / (8 * 8),\n",
    "                    #bond_stats2[:, 1] / (64 * 64),\n",
    "                    #bond_stats2_blocked[:, 1] / (32 * 32),\n",
    "                    #bond_stats2_blocked1[:, 1] / (16 * 16),\n",
    "                    #bond_stats2_blocked2[:, 1] / (8 * 8)])\n",
    "Nb_xlabel = \"cutoff\"\n",
    "Nb_ylabel = r\"$\\langle N_b\\rangle / V_{eff}$\"\n",
    "Nb_values = {'x': np.array(cutoffs), 'y': Nb_vals[0], 'y_err': Nb_errs[0]}\n",
    "Nb_labels = {'fig_labels': ['Batch 1', \n",
    "                            'Block step: 1', 'Block step: 2',  'Block step: 3'],\n",
    "                            #'Batch 2', \n",
    "                            #'Block step: 1', 'Block step: 2', 'Block step: 3',\n",
    "                            #'Batch 3', \n",
    "                            #'Block step: 1', 'Block step: 2', 'Block step: 3'],\n",
    "             'x_label': Nb_xlabel, 'y_label': Nb_ylabel}\n",
    "limits = {'x_lim': (min(cutoffs) - 0.02, max(cutoffs) + 0.02)}\n",
    "Nb_avg_plot_dir = './plots/Nb_avg/'\n",
    "Nb_avg_plot_num = get_plot_num(Nb_avg_plot_dir)\n",
    "Nb_avg_plot_file = (Nb_avg_plot_dir \n",
    "                    + f'Nb_avg_vs_cutoff_{Nb_avg_plot_num}.png')\n",
    "#Nb_fig, Nb_ax = errorbar_plot(Nb_values, Nb_labels, Nb_avg_plot_file, \n",
    "#                              limits, markersize=3.5)\n",
    "cc = [0, 4, 8, 12]\n",
    "#for idx, i in enumerate(range(3, len(Nb_vals), 4)):\n",
    "#for idx, i in enumerate(range(len(Nb_vals))):\n",
    "fig, ax = plt.subplots()\n",
    "ax.errorbar(cutoffs, Nb_vals[0], yerr=Nb_errs[0],\n",
    "            label=Nb_labels['fig_labels'][0], \n",
    "            marker=markers[0],\n",
    "            #marker=markers[(i-3) // 4],\n",
    "            markersize=3, fillstyle='none',\n",
    "            #color=colors[(i-2) // 3], \n",
    "            color=cm.tab20c(0 + cc[2]),\n",
    "            #color=cm.coolwarm_r(10),\n",
    "            #markeredgecolor=cm.coolwarm_r(0),\n",
    "            #markeredgecolor=markeredgecolors[(i-2) // 3],\n",
    "            ls='-', lw=1., elinewidth=0.5, capsize=2., capthick=1.)\n",
    "ax.errorbar(cutoffs, Nb_vals[1], yerr=Nb_errs[1],\n",
    "            label=Nb_labels['fig_labels'][1], \n",
    "            #marker=markers[(i-2) // 3],\n",
    "            marker=markers[0],\n",
    "            markersize=3, fillstyle='none',\n",
    "            color=cm.tab20c(1 + cc[2]),\n",
    "            #color=colors[(i-2) // 3], \n",
    "            #color=cm.coolwarm_r(30),\n",
    "            #markeredgecolor=cm.coolwarm_r(20),\n",
    "            #markeredgecolor=markeredgecolors[(i-2) // 3],\n",
    "            ls='-', lw=1., elinewidth=0.5, capsize=2., capthick=1.)\n",
    "ax.errorbar(cutoffs, Nb_vals[2], yerr=Nb_errs[2],\n",
    "            label=Nb_labels['fig_labels'][2], \n",
    "            #marker=markers[(i-2) // 3],\n",
    "            marker=markers[0],\n",
    "            markersize=3, fillstyle='none',\n",
    "            color=cm.tab20c(2 + cc[2]),\n",
    "            #color=colors[(i-2) // 3], \n",
    "            #color=cm.tab20c(1 + cc[2]),\n",
    "            #color=cm.coolwarm_r(50),\n",
    "            #markeredgecolor=cm.coolwarm_r(40),\n",
    "            #markeredgecolor=markeredgecolors[(i-2) // 3],\n",
    "            ls='-', lw=1., elinewidth=0.5, capsize=2., capthick=1.)\n",
    "ax.errorbar(cutoffs, Nb_vals[3], yerr=Nb_errs[3],\n",
    "            label=Nb_labels['fig_labels'][3], \n",
    "            #marker=markers[(i-2) // 3],\n",
    "            marker=markers[0],\n",
    "            markersize=3, fillstyle='none',\n",
    "            color=cm.tab20c(3 + cc[2]),\n",
    "            #color=colors[(i-2) // 3], \n",
    "            #color=cm.tab20c(2 + cc[2]),\n",
    "            #color=cm.coolwarm_r(70),\n",
    "            #markeredgecolor=cm.coolwarm_r(60),\n",
    "            #markeredgecolor=markeredgecolors[(i-2) // 3],\n",
    "            ls='-', lw=1., elinewidth=0.5, capsize=2., capthick=1.)\n",
    "leg = ax.legend(loc='best', markerscale=1., fontsize=12)\n",
    "ax.set_xlabel(Nb_labels['x_label'], fontsize=16)\n",
    "ax.set_ylabel(Nb_labels['y_label'], fontsize=16)\n",
    "Nb_avg_plot_num = get_plot_num(Nb_avg_plot_dir)\n",
    "Nb_avg_plot_file = (Nb_avg_plot_dir \n",
    "                    + f'Nb_avg_vs_cutoff_{Nb_avg_plot_num}.png')\n",
    "fig.savefig(Nb_avg_plot_file, dpi=400, bbox_inches='tight')\n",
    "plt.show()\n",
    "\n",
    "#fig.savefig(Nb_avg_plot_file, dpi=400, bbox_inches='tight')"
   ]
  },
  {
   "cell_type": "markdown",
   "metadata": {},
   "source": [
    "### $\\langle \\Delta_{N_b}^2\\rangle$ vs. cutoff"
   ]
  },
  {
   "cell_type": "code",
   "execution_count": 309,
   "metadata": {
    "ExecuteTime": {
     "end_time": "2018-05-17T04:10:25.344596Z",
     "start_time": "2018-05-17T04:10:22.682685Z"
    },
    "scrolled": false
   },
   "outputs": [
    {
     "data": {
      "text/plain": [
       "<Container object of 3 artists>"
      ]
     },
     "execution_count": 309,
     "metadata": {},
     "output_type": "execute_result"
    },
    {
     "data": {
      "text/plain": [
       "<Container object of 3 artists>"
      ]
     },
     "execution_count": 309,
     "metadata": {},
     "output_type": "execute_result"
    },
    {
     "data": {
      "text/plain": [
       "<Container object of 3 artists>"
      ]
     },
     "execution_count": 309,
     "metadata": {},
     "output_type": "execute_result"
    },
    {
     "data": {
      "text/plain": [
       "<Container object of 3 artists>"
      ]
     },
     "execution_count": 309,
     "metadata": {},
     "output_type": "execute_result"
    },
    {
     "data": {
      "text/plain": [
       "Text(0.5,0,'cutoff')"
      ]
     },
     "execution_count": 309,
     "metadata": {},
     "output_type": "execute_result"
    },
    {
     "data": {
      "text/plain": [
       "Text(0,0.5,'$\\\\langle \\\\Delta_{N_b}^2\\\\rangle/ V_{eff}$')"
      ]
     },
     "execution_count": 309,
     "metadata": {},
     "output_type": "execute_result"
    },
    {
     "data": {
      "image/png": "[encoded data removed]",
      "text/plain": [
       "<matplotlib.figure.Figure at 0x12225f748>"
      ]
     },
     "metadata": {},
     "output_type": "display_data"
    }
   ],
   "source": [
    "bond_stats0 = np.array(bond_stats0)\n",
    "bond_stats0_blocked = np.array(bond_stats0_blocked)\n",
    "\n",
    "markers = ['s', 'H', 'd', 'v', 'p', 'P']\n",
    "colors = ['#2A9Df8', '#FF920B', '#65e41d', '#be67ff', '#ff7e79', '#959595']\n",
    "markeredgecolors = ['#0256a3', '#ed4c18',  '#00B000', '#6633cc',\n",
    "                    '#ee2324','#1c2022']\n",
    "delta_Nb_vals = np.array([bond_stats0[:, 2] / (64 * 64), \n",
    "                          bond_stats0_blocked[:, 2] / (32 * 32),\n",
    "                          bond_stats0_blocked1[:, 2] / (16 * 16),\n",
    "                          bond_stats0_blocked2[:, 2] / (8 * 8)])\n",
    "                          #bond_stats1[:, 2] / (64 * 64), \n",
    "                          #bond_stats1_blocked[:, 2] / (32 * 32),\n",
    "                          #bond_stats1_blocked1[:, 2] / (16 * 16),\n",
    "                          #bond_stats1_blocked2[:, 2] / (8 * 8),\n",
    "                          #bond_stats2[:, 2] / (64 * 64), \n",
    "                          #bond_stats2_blocked[:, 2] / (32 * 32),\n",
    "                          #bond_stats2_blocked1[:, 2] / (16 * 16),\n",
    "                          #bond_stats2_blocked2[:, 2] / (8 * 8)])\n",
    "delta_Nb_errs = np.array([bond_stats0[:, 3] / (64 * 64),\n",
    "                          bond_stats0_blocked[:, 3] / (32 * 32),\n",
    "                          bond_stats0_blocked1[:, 3] / (16 * 16),\n",
    "                          bond_stats0_blocked2[:, 3] / (8 * 8)])\n",
    "                          #bond_stats1[:, 3] / (64 * 64),\n",
    "                          #bond_stats1_blocked[:, 3] / (32 * 32),\n",
    "                          #bond_stats1_blocked1[:, 3] / (16 * 16),\n",
    "                          #bond_stats1_blocked2[:, 3] / (8 * 8),\n",
    "                          #bond_stats2[:, 3] / (64 * 64),\n",
    "                          #bond_stats2_blocked[:, 3] / (32 * 32),\n",
    "                          #bond_stats2_blocked1[:, 3] / (16 * 16),\n",
    "                          #bond_stats2_blocked2[:, 3] / (8 * 8)])\n",
    "delta_Nb_xlabel = \"cutoff\"\n",
    "delta_Nb_ylabel = r\"$\\langle \\Delta_{N_b}^2\\rangle/ V_{eff}$\"\n",
    "delta_Nb_values = {'x': np.array(cutoffs), 'y': Nb_vals[0], 'y_err': Nb_errs[0]}\n",
    "delta_Nb_labels = {'fig_labels': ['Batch 1', \n",
    "                                  'Block step: 1', 'Block step: 2', 'Block step: 3'],\n",
    "                                  #'Batch 2', \n",
    "                                  #'Block step: 1', 'Block step: 2', 'Block step 3',\n",
    "                                  #'Batch 3', \n",
    "                                  #'Block step: 1', 'Block step: 2', 'Block step 3'],\n",
    "                   'x_label': delta_Nb_xlabel, 'y_label': delta_Nb_ylabel}\n",
    "limits = {'x_lim': (min(cutoffs) - 0.02, max(cutoffs) + 0.02)}\n",
    "delta_Nb_plot_dir = './plots/delta_Nb/'\n",
    "delta_Nb_plot_num = get_plot_num(delta_Nb_plot_dir)\n",
    "delta_Nb_plot_file = (delta_Nb_plot_dir \n",
    "                    + f'delta_Nb_vs_cutoff_{delta_Nb_plot_num}.png')\n",
    "#Nb_fig, Nb_ax = errorbar_plot(Nb_values, Nb_labels, Nb_avg_plot_file, \n",
    "#                              limits, markersize=3.5)\n",
    "\n",
    "                          \n",
    "cc = [0, 4, 8, 12]\n",
    "#for (idx, i) in enumerate(range(3, len(delta_Nb_vals), 4)):\n",
    "fig, ax = plt.subplots()\n",
    "ax.errorbar(cutoffs, delta_Nb_vals[0], yerr=delta_Nb_errs[0],\n",
    "            label=delta_Nb_labels['fig_labels'][0], \n",
    "            marker=markers[0],\n",
    "            markersize=5, fillstyle='full',\n",
    "            color=cm.tab20c(0 + cc[2]),\n",
    "            #color=colors[i-1], \n",
    "            #markeredgecolor=markeredgecolors[i-1],\n",
    "            ls='-', lw=1., elinewidth=0.5, capsize=2., capthick=2.)\n",
    "ax.errorbar(cutoffs, delta_Nb_vals[1], yerr=delta_Nb_errs[1],\n",
    "            label=delta_Nb_labels['fig_labels'][1], \n",
    "            marker=markers[0],\n",
    "            markersize=5, fillstyle='full',\n",
    "            color=cm.tab20c(1 + cc[2]),\n",
    "            #color=colors[i-1], \n",
    "            #markeredgecolor=markeredgecolors[i-1],\n",
    "            ls='-', lw=1., elinewidth=0.5, capsize=2., capthick=2.)\n",
    "ax.errorbar(cutoffs, delta_Nb_vals[2], yerr=delta_Nb_errs[2],\n",
    "            label=delta_Nb_labels['fig_labels'][2], \n",
    "            marker=markers[0],\n",
    "            markersize=5, fillstyle='full',\n",
    "            color=cm.tab20c(2 + cc[2]),\n",
    "            #color=colors[i-1], markeredgecolor=markeredgecolors[i-1],\n",
    "            ls='-', lw=1., elinewidth=0.5, capsize=2., capthick=2.)\n",
    "ax.errorbar(cutoffs, delta_Nb_vals[3], yerr=delta_Nb_errs[3],\n",
    "            label=Nb_labels['fig_labels'][3], \n",
    "            marker=markers[0],\n",
    "            markersize=5, fillstyle='full',\n",
    "            color=cm.tab20c(3 + cc[2]),\n",
    "            #color=colors[i-1], markeredgecolor=markeredgecolors[i-1],\n",
    "            ls='-', lw=1., elinewidth=1., capsize=2., capthick=2.)\n",
    "leg = ax.legend(loc='best', markerscale=1, fontsize=12)\n",
    "ax.set_xlabel(delta_Nb_labels['x_label'], fontsize=16)\n",
    "ax.set_ylabel(delta_Nb_labels['y_label'], fontsize=16)\n",
    "delta_Nb_plot_num = get_plot_num(delta_Nb_plot_dir)\n",
    "delta_Nb_plot_file = (delta_Nb_plot_dir \n",
    "                    + f'delta_Nb_vs_cutoff_{delta_Nb_plot_num}.png')\n",
    "fig.savefig(delta_Nb_plot_file, dpi=400, bbox_inches='tight')\n",
    "#fig.savefig(Nb_avg_plot_file, dpi=400, bbox_inches='tight')"
   ]
  },
  {
   "cell_type": "code",
   "execution_count": null,
   "metadata": {
    "collapsed": true
   },
   "outputs": [],
   "source": []
  }
 ],
 "metadata": {
  "hide_input": false,
  "kernelspec": {
   "display_name": "Python 3",
   "language": "python",
   "name": "python3"
  },
  "language_info": {
   "codemirror_mode": {
    "name": "ipython",
    "version": 3
   },
   "file_extension": ".py",
   "mimetype": "text/x-python",
   "name": "python",
   "nbconvert_exporter": "python",
   "pygments_lexer": "ipython3",
   "version": "3.6.5"
  },
  "latex_envs": {
   "LaTeX_envs_menu_present": true,
   "bibliofile": "biblio.bib",
   "cite_by": "apalike",
   "current_citInitial": 1,
   "eqLabelWithNumbers": true,
   "eqNumInitial": 1,
   "labels_anchors": false,
   "latex_user_defs": false,
   "report_style_numbering": false,
   "user_envs_cfg": false
  }
 },
 "nbformat": 4,
 "nbformat_minor": 2
}
